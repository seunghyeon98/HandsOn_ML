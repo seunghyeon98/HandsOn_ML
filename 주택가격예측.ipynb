{
 "cells": [
  {
   "cell_type": "code",
   "execution_count": 1,
   "id": "8cfdcec1",
   "metadata": {},
   "outputs": [],
   "source": [
    "# https://mldlcvmjw.tistory.com/194\n",
    "\n",
    "# https://github.com/rickiepark/handson-ml2/blob/master/02_end_to_end_machine_learning_project.ipynb"
   ]
  },
  {
   "cell_type": "code",
   "execution_count": 2,
   "id": "e01b5dca",
   "metadata": {},
   "outputs": [],
   "source": [
    "import os\n",
    "import tarfile\n",
    "import urllib\n",
    "import pandas as pd\n",
    "import numpy as np\n",
    "\n",
    "import urllib.request\n",
    "\n",
    "\n",
    "import warnings\n",
    "warnings.filterwarnings(action='ignore',message='^internal gelsd')\n"
   ]
  },
  {
   "cell_type": "code",
   "execution_count": 3,
   "id": "cc895463",
   "metadata": {},
   "outputs": [],
   "source": [
    "# 맷플롯립 설정\n",
    "%matplotlib inline\n",
    "import matplotlib\n",
    "import matplotlib.pyplot as plt\n",
    "plt.rcParams['axes.labelsize'] = 14\n",
    "plt.rcParams['xtick.labelsize'] = 12\n",
    "plt.rcParams['ytick.labelsize'] = 12"
   ]
  },
  {
   "cell_type": "code",
   "execution_count": 4,
   "id": "edcedb20",
   "metadata": {},
   "outputs": [],
   "source": [
    "\n",
    "# 그림을 저장할 폴드\n",
    "PROJECT_ROOT_DIR = \".\"\n",
    "CHAPTER_ID = \"end_to_end_project\"\n",
    "IMAGES_PATH = os.path.join(PROJECT_ROOT_DIR, \"images\", CHAPTER_ID)"
   ]
  },
  {
   "cell_type": "code",
   "execution_count": 5,
   "id": "cfbc9741",
   "metadata": {},
   "outputs": [],
   "source": [
    "def save_fig(fig_id, tight_layout=True, fig_extension=\"png\",resolution=300):\n",
    "    path = os.path.join(IMAGES_PATH,fig_id +\".\"+fig_extension)\n",
    "    if tight_layout:\n",
    "        plt.tight_layout()\n",
    "    plt.savefig(path, format='png', dpi=300)"
   ]
  },
  {
   "cell_type": "code",
   "execution_count": 6,
   "id": "b956ff7e",
   "metadata": {},
   "outputs": [
    {
     "data": {
      "text/plain": [
       "'./images/end_to_end_project'"
      ]
     },
     "execution_count": 6,
     "metadata": {},
     "output_type": "execute_result"
    }
   ],
   "source": [
    "IMAGES_PATH"
   ]
  },
  {
   "cell_type": "code",
   "execution_count": 7,
   "id": "35966e47",
   "metadata": {},
   "outputs": [],
   "source": [
    "DOWNLOAD_ROOT = \"https://raw.githubusercontent.com/rickiepark/handson-ml2/master/\"\n",
    "HOUSING_PATH = os.path.join(\"datasets\", \"housing\")\n",
    "HOUSING_URL = DOWNLOAD_ROOT + \"datasets/housing/housing.tgz\"   # 압축파일 다운\n",
    "\n",
    "def fetch_housing_data(housing_url=HOUSING_URL, housing_path=HOUSING_PATH):\n",
    "    if not os.path.isdir(housing_path):\n",
    "        os.makedirs(housing_path)\n",
    "    tgz_path = os.path.join(housing_path, \"housing.tgz\")\n",
    "    urllib.request.urlretrieve(housing_url, tgz_path)\n",
    "    housing_tgz = tarfile.open(tgz_path)\n",
    "    housing_tgz.extractall(path=housing_path)\n",
    "    housing_tgz.close()"
   ]
  },
  {
   "cell_type": "code",
   "execution_count": 8,
   "id": "804d97df",
   "metadata": {},
   "outputs": [],
   "source": [
    "fetch_housing_data()"
   ]
  },
  {
   "cell_type": "code",
   "execution_count": 9,
   "id": "fadc3fe2",
   "metadata": {},
   "outputs": [],
   "source": [
    "import pandas as pd\n",
    "\n",
    "def load_housing_data(housing_path=HOUSING_PATH):\n",
    "    csv_path = os.path.join(housing_path, \"housing.csv\")\n",
    "    return pd.read_csv(csv_path)"
   ]
  },
  {
   "cell_type": "code",
   "execution_count": 10,
   "id": "88d93998",
   "metadata": {},
   "outputs": [
    {
     "data": {
      "text/html": [
       "<div>\n",
       "<style scoped>\n",
       "    .dataframe tbody tr th:only-of-type {\n",
       "        vertical-align: middle;\n",
       "    }\n",
       "\n",
       "    .dataframe tbody tr th {\n",
       "        vertical-align: top;\n",
       "    }\n",
       "\n",
       "    .dataframe thead th {\n",
       "        text-align: right;\n",
       "    }\n",
       "</style>\n",
       "<table border=\"1\" class=\"dataframe\">\n",
       "  <thead>\n",
       "    <tr style=\"text-align: right;\">\n",
       "      <th></th>\n",
       "      <th>longitude</th>\n",
       "      <th>latitude</th>\n",
       "      <th>housing_median_age</th>\n",
       "      <th>total_rooms</th>\n",
       "      <th>total_bedrooms</th>\n",
       "      <th>population</th>\n",
       "      <th>households</th>\n",
       "      <th>median_income</th>\n",
       "      <th>median_house_value</th>\n",
       "      <th>ocean_proximity</th>\n",
       "    </tr>\n",
       "  </thead>\n",
       "  <tbody>\n",
       "    <tr>\n",
       "      <th>0</th>\n",
       "      <td>-122.23</td>\n",
       "      <td>37.88</td>\n",
       "      <td>41.0</td>\n",
       "      <td>880.0</td>\n",
       "      <td>129.0</td>\n",
       "      <td>322.0</td>\n",
       "      <td>126.0</td>\n",
       "      <td>8.3252</td>\n",
       "      <td>452600.0</td>\n",
       "      <td>NEAR BAY</td>\n",
       "    </tr>\n",
       "    <tr>\n",
       "      <th>1</th>\n",
       "      <td>-122.22</td>\n",
       "      <td>37.86</td>\n",
       "      <td>21.0</td>\n",
       "      <td>7099.0</td>\n",
       "      <td>1106.0</td>\n",
       "      <td>2401.0</td>\n",
       "      <td>1138.0</td>\n",
       "      <td>8.3014</td>\n",
       "      <td>358500.0</td>\n",
       "      <td>NEAR BAY</td>\n",
       "    </tr>\n",
       "    <tr>\n",
       "      <th>2</th>\n",
       "      <td>-122.24</td>\n",
       "      <td>37.85</td>\n",
       "      <td>52.0</td>\n",
       "      <td>1467.0</td>\n",
       "      <td>190.0</td>\n",
       "      <td>496.0</td>\n",
       "      <td>177.0</td>\n",
       "      <td>7.2574</td>\n",
       "      <td>352100.0</td>\n",
       "      <td>NEAR BAY</td>\n",
       "    </tr>\n",
       "    <tr>\n",
       "      <th>3</th>\n",
       "      <td>-122.25</td>\n",
       "      <td>37.85</td>\n",
       "      <td>52.0</td>\n",
       "      <td>1274.0</td>\n",
       "      <td>235.0</td>\n",
       "      <td>558.0</td>\n",
       "      <td>219.0</td>\n",
       "      <td>5.6431</td>\n",
       "      <td>341300.0</td>\n",
       "      <td>NEAR BAY</td>\n",
       "    </tr>\n",
       "    <tr>\n",
       "      <th>4</th>\n",
       "      <td>-122.25</td>\n",
       "      <td>37.85</td>\n",
       "      <td>52.0</td>\n",
       "      <td>1627.0</td>\n",
       "      <td>280.0</td>\n",
       "      <td>565.0</td>\n",
       "      <td>259.0</td>\n",
       "      <td>3.8462</td>\n",
       "      <td>342200.0</td>\n",
       "      <td>NEAR BAY</td>\n",
       "    </tr>\n",
       "  </tbody>\n",
       "</table>\n",
       "</div>"
      ],
      "text/plain": [
       "   longitude  latitude  housing_median_age  total_rooms  total_bedrooms  \\\n",
       "0    -122.23     37.88                41.0        880.0           129.0   \n",
       "1    -122.22     37.86                21.0       7099.0          1106.0   \n",
       "2    -122.24     37.85                52.0       1467.0           190.0   \n",
       "3    -122.25     37.85                52.0       1274.0           235.0   \n",
       "4    -122.25     37.85                52.0       1627.0           280.0   \n",
       "\n",
       "   population  households  median_income  median_house_value ocean_proximity  \n",
       "0       322.0       126.0         8.3252            452600.0        NEAR BAY  \n",
       "1      2401.0      1138.0         8.3014            358500.0        NEAR BAY  \n",
       "2       496.0       177.0         7.2574            352100.0        NEAR BAY  \n",
       "3       558.0       219.0         5.6431            341300.0        NEAR BAY  \n",
       "4       565.0       259.0         3.8462            342200.0        NEAR BAY  "
      ]
     },
     "execution_count": 10,
     "metadata": {},
     "output_type": "execute_result"
    }
   ],
   "source": [
    "housing = load_housing_data()\n",
    "housing.head()"
   ]
  },
  {
   "cell_type": "markdown",
   "id": "3e1b2163",
   "metadata": {},
   "source": [
    "# 데이터 프로파일링\n"
   ]
  },
  {
   "cell_type": "code",
   "execution_count": 11,
   "id": "63e0caed",
   "metadata": {},
   "outputs": [],
   "source": [
    "# import pandas_profiling\n",
    "# housing_pr = housing.profile_report()\n",
    "# housing_pr.to_file('/Users/iseunghyeon/Desktop/고급기계 실습/housing_report.html') # pr_report.html 파일로 저장"
   ]
  },
  {
   "cell_type": "code",
   "execution_count": 12,
   "id": "c6208c53",
   "metadata": {},
   "outputs": [
    {
     "name": "stdout",
     "output_type": "stream",
     "text": [
      "<class 'pandas.core.frame.DataFrame'>\n",
      "RangeIndex: 20640 entries, 0 to 20639\n",
      "Data columns (total 10 columns):\n",
      " #   Column              Non-Null Count  Dtype  \n",
      "---  ------              --------------  -----  \n",
      " 0   longitude           20640 non-null  float64\n",
      " 1   latitude            20640 non-null  float64\n",
      " 2   housing_median_age  20640 non-null  float64\n",
      " 3   total_rooms         20640 non-null  float64\n",
      " 4   total_bedrooms      20433 non-null  float64\n",
      " 5   population          20640 non-null  float64\n",
      " 6   households          20640 non-null  float64\n",
      " 7   median_income       20640 non-null  float64\n",
      " 8   median_house_value  20640 non-null  float64\n",
      " 9   ocean_proximity     20640 non-null  object \n",
      "dtypes: float64(9), object(1)\n",
      "memory usage: 1.6+ MB\n"
     ]
    }
   ],
   "source": [
    "housing.info()"
   ]
  },
  {
   "cell_type": "code",
   "execution_count": 13,
   "id": "9672c8c2",
   "metadata": {},
   "outputs": [
    {
     "data": {
      "text/plain": [
       "<1H OCEAN     9136\n",
       "INLAND        6551\n",
       "NEAR OCEAN    2658\n",
       "NEAR BAY      2290\n",
       "ISLAND           5\n",
       "Name: ocean_proximity, dtype: int64"
      ]
     },
     "execution_count": 13,
     "metadata": {},
     "output_type": "execute_result"
    }
   ],
   "source": [
    "housing['ocean_proximity'].value_counts()"
   ]
  },
  {
   "cell_type": "code",
   "execution_count": 14,
   "id": "5af17efa",
   "metadata": {},
   "outputs": [
    {
     "data": {
      "text/html": [
       "<div>\n",
       "<style scoped>\n",
       "    .dataframe tbody tr th:only-of-type {\n",
       "        vertical-align: middle;\n",
       "    }\n",
       "\n",
       "    .dataframe tbody tr th {\n",
       "        vertical-align: top;\n",
       "    }\n",
       "\n",
       "    .dataframe thead th {\n",
       "        text-align: right;\n",
       "    }\n",
       "</style>\n",
       "<table border=\"1\" class=\"dataframe\">\n",
       "  <thead>\n",
       "    <tr style=\"text-align: right;\">\n",
       "      <th></th>\n",
       "      <th>longitude</th>\n",
       "      <th>latitude</th>\n",
       "      <th>housing_median_age</th>\n",
       "      <th>total_rooms</th>\n",
       "      <th>total_bedrooms</th>\n",
       "      <th>population</th>\n",
       "      <th>households</th>\n",
       "      <th>median_income</th>\n",
       "      <th>median_house_value</th>\n",
       "    </tr>\n",
       "  </thead>\n",
       "  <tbody>\n",
       "    <tr>\n",
       "      <th>count</th>\n",
       "      <td>20640.000000</td>\n",
       "      <td>20640.000000</td>\n",
       "      <td>20640.000000</td>\n",
       "      <td>20640.000000</td>\n",
       "      <td>20433.000000</td>\n",
       "      <td>20640.000000</td>\n",
       "      <td>20640.000000</td>\n",
       "      <td>20640.000000</td>\n",
       "      <td>20640.000000</td>\n",
       "    </tr>\n",
       "    <tr>\n",
       "      <th>mean</th>\n",
       "      <td>-119.569704</td>\n",
       "      <td>35.631861</td>\n",
       "      <td>28.639486</td>\n",
       "      <td>2635.763081</td>\n",
       "      <td>537.870553</td>\n",
       "      <td>1425.476744</td>\n",
       "      <td>499.539680</td>\n",
       "      <td>3.870671</td>\n",
       "      <td>206855.816909</td>\n",
       "    </tr>\n",
       "    <tr>\n",
       "      <th>std</th>\n",
       "      <td>2.003532</td>\n",
       "      <td>2.135952</td>\n",
       "      <td>12.585558</td>\n",
       "      <td>2181.615252</td>\n",
       "      <td>421.385070</td>\n",
       "      <td>1132.462122</td>\n",
       "      <td>382.329753</td>\n",
       "      <td>1.899822</td>\n",
       "      <td>115395.615874</td>\n",
       "    </tr>\n",
       "    <tr>\n",
       "      <th>min</th>\n",
       "      <td>-124.350000</td>\n",
       "      <td>32.540000</td>\n",
       "      <td>1.000000</td>\n",
       "      <td>2.000000</td>\n",
       "      <td>1.000000</td>\n",
       "      <td>3.000000</td>\n",
       "      <td>1.000000</td>\n",
       "      <td>0.499900</td>\n",
       "      <td>14999.000000</td>\n",
       "    </tr>\n",
       "    <tr>\n",
       "      <th>25%</th>\n",
       "      <td>-121.800000</td>\n",
       "      <td>33.930000</td>\n",
       "      <td>18.000000</td>\n",
       "      <td>1447.750000</td>\n",
       "      <td>296.000000</td>\n",
       "      <td>787.000000</td>\n",
       "      <td>280.000000</td>\n",
       "      <td>2.563400</td>\n",
       "      <td>119600.000000</td>\n",
       "    </tr>\n",
       "    <tr>\n",
       "      <th>50%</th>\n",
       "      <td>-118.490000</td>\n",
       "      <td>34.260000</td>\n",
       "      <td>29.000000</td>\n",
       "      <td>2127.000000</td>\n",
       "      <td>435.000000</td>\n",
       "      <td>1166.000000</td>\n",
       "      <td>409.000000</td>\n",
       "      <td>3.534800</td>\n",
       "      <td>179700.000000</td>\n",
       "    </tr>\n",
       "    <tr>\n",
       "      <th>75%</th>\n",
       "      <td>-118.010000</td>\n",
       "      <td>37.710000</td>\n",
       "      <td>37.000000</td>\n",
       "      <td>3148.000000</td>\n",
       "      <td>647.000000</td>\n",
       "      <td>1725.000000</td>\n",
       "      <td>605.000000</td>\n",
       "      <td>4.743250</td>\n",
       "      <td>264725.000000</td>\n",
       "    </tr>\n",
       "    <tr>\n",
       "      <th>max</th>\n",
       "      <td>-114.310000</td>\n",
       "      <td>41.950000</td>\n",
       "      <td>52.000000</td>\n",
       "      <td>39320.000000</td>\n",
       "      <td>6445.000000</td>\n",
       "      <td>35682.000000</td>\n",
       "      <td>6082.000000</td>\n",
       "      <td>15.000100</td>\n",
       "      <td>500001.000000</td>\n",
       "    </tr>\n",
       "  </tbody>\n",
       "</table>\n",
       "</div>"
      ],
      "text/plain": [
       "          longitude      latitude  housing_median_age   total_rooms  \\\n",
       "count  20640.000000  20640.000000        20640.000000  20640.000000   \n",
       "mean    -119.569704     35.631861           28.639486   2635.763081   \n",
       "std        2.003532      2.135952           12.585558   2181.615252   \n",
       "min     -124.350000     32.540000            1.000000      2.000000   \n",
       "25%     -121.800000     33.930000           18.000000   1447.750000   \n",
       "50%     -118.490000     34.260000           29.000000   2127.000000   \n",
       "75%     -118.010000     37.710000           37.000000   3148.000000   \n",
       "max     -114.310000     41.950000           52.000000  39320.000000   \n",
       "\n",
       "       total_bedrooms    population    households  median_income  \\\n",
       "count    20433.000000  20640.000000  20640.000000   20640.000000   \n",
       "mean       537.870553   1425.476744    499.539680       3.870671   \n",
       "std        421.385070   1132.462122    382.329753       1.899822   \n",
       "min          1.000000      3.000000      1.000000       0.499900   \n",
       "25%        296.000000    787.000000    280.000000       2.563400   \n",
       "50%        435.000000   1166.000000    409.000000       3.534800   \n",
       "75%        647.000000   1725.000000    605.000000       4.743250   \n",
       "max       6445.000000  35682.000000   6082.000000      15.000100   \n",
       "\n",
       "       median_house_value  \n",
       "count        20640.000000  \n",
       "mean        206855.816909  \n",
       "std         115395.615874  \n",
       "min          14999.000000  \n",
       "25%         119600.000000  \n",
       "50%         179700.000000  \n",
       "75%         264725.000000  \n",
       "max         500001.000000  "
      ]
     },
     "execution_count": 14,
     "metadata": {},
     "output_type": "execute_result"
    }
   ],
   "source": [
    "housing.describe()"
   ]
  },
  {
   "cell_type": "code",
   "execution_count": 15,
   "id": "352f835b",
   "metadata": {},
   "outputs": [
    {
     "data": {
      "text/html": [
       "<div>\n",
       "<style scoped>\n",
       "    .dataframe tbody tr th:only-of-type {\n",
       "        vertical-align: middle;\n",
       "    }\n",
       "\n",
       "    .dataframe tbody tr th {\n",
       "        vertical-align: top;\n",
       "    }\n",
       "\n",
       "    .dataframe thead th {\n",
       "        text-align: right;\n",
       "    }\n",
       "</style>\n",
       "<table border=\"1\" class=\"dataframe\">\n",
       "  <thead>\n",
       "    <tr style=\"text-align: right;\">\n",
       "      <th></th>\n",
       "      <th>longitude</th>\n",
       "      <th>latitude</th>\n",
       "      <th>housing_median_age</th>\n",
       "      <th>total_rooms</th>\n",
       "      <th>total_bedrooms</th>\n",
       "      <th>population</th>\n",
       "      <th>households</th>\n",
       "      <th>median_income</th>\n",
       "      <th>median_house_value</th>\n",
       "      <th>ocean_proximity</th>\n",
       "    </tr>\n",
       "  </thead>\n",
       "  <tbody>\n",
       "    <tr>\n",
       "      <th>count</th>\n",
       "      <td>20640.000000</td>\n",
       "      <td>20640.000000</td>\n",
       "      <td>20640.000000</td>\n",
       "      <td>20640.000000</td>\n",
       "      <td>20433.000000</td>\n",
       "      <td>20640.000000</td>\n",
       "      <td>20640.000000</td>\n",
       "      <td>20640.000000</td>\n",
       "      <td>20640.000000</td>\n",
       "      <td>20640</td>\n",
       "    </tr>\n",
       "    <tr>\n",
       "      <th>unique</th>\n",
       "      <td>NaN</td>\n",
       "      <td>NaN</td>\n",
       "      <td>NaN</td>\n",
       "      <td>NaN</td>\n",
       "      <td>NaN</td>\n",
       "      <td>NaN</td>\n",
       "      <td>NaN</td>\n",
       "      <td>NaN</td>\n",
       "      <td>NaN</td>\n",
       "      <td>5</td>\n",
       "    </tr>\n",
       "    <tr>\n",
       "      <th>top</th>\n",
       "      <td>NaN</td>\n",
       "      <td>NaN</td>\n",
       "      <td>NaN</td>\n",
       "      <td>NaN</td>\n",
       "      <td>NaN</td>\n",
       "      <td>NaN</td>\n",
       "      <td>NaN</td>\n",
       "      <td>NaN</td>\n",
       "      <td>NaN</td>\n",
       "      <td>&lt;1H OCEAN</td>\n",
       "    </tr>\n",
       "    <tr>\n",
       "      <th>freq</th>\n",
       "      <td>NaN</td>\n",
       "      <td>NaN</td>\n",
       "      <td>NaN</td>\n",
       "      <td>NaN</td>\n",
       "      <td>NaN</td>\n",
       "      <td>NaN</td>\n",
       "      <td>NaN</td>\n",
       "      <td>NaN</td>\n",
       "      <td>NaN</td>\n",
       "      <td>9136</td>\n",
       "    </tr>\n",
       "    <tr>\n",
       "      <th>mean</th>\n",
       "      <td>-119.569704</td>\n",
       "      <td>35.631861</td>\n",
       "      <td>28.639486</td>\n",
       "      <td>2635.763081</td>\n",
       "      <td>537.870553</td>\n",
       "      <td>1425.476744</td>\n",
       "      <td>499.539680</td>\n",
       "      <td>3.870671</td>\n",
       "      <td>206855.816909</td>\n",
       "      <td>NaN</td>\n",
       "    </tr>\n",
       "    <tr>\n",
       "      <th>std</th>\n",
       "      <td>2.003532</td>\n",
       "      <td>2.135952</td>\n",
       "      <td>12.585558</td>\n",
       "      <td>2181.615252</td>\n",
       "      <td>421.385070</td>\n",
       "      <td>1132.462122</td>\n",
       "      <td>382.329753</td>\n",
       "      <td>1.899822</td>\n",
       "      <td>115395.615874</td>\n",
       "      <td>NaN</td>\n",
       "    </tr>\n",
       "    <tr>\n",
       "      <th>min</th>\n",
       "      <td>-124.350000</td>\n",
       "      <td>32.540000</td>\n",
       "      <td>1.000000</td>\n",
       "      <td>2.000000</td>\n",
       "      <td>1.000000</td>\n",
       "      <td>3.000000</td>\n",
       "      <td>1.000000</td>\n",
       "      <td>0.499900</td>\n",
       "      <td>14999.000000</td>\n",
       "      <td>NaN</td>\n",
       "    </tr>\n",
       "    <tr>\n",
       "      <th>25%</th>\n",
       "      <td>-121.800000</td>\n",
       "      <td>33.930000</td>\n",
       "      <td>18.000000</td>\n",
       "      <td>1447.750000</td>\n",
       "      <td>296.000000</td>\n",
       "      <td>787.000000</td>\n",
       "      <td>280.000000</td>\n",
       "      <td>2.563400</td>\n",
       "      <td>119600.000000</td>\n",
       "      <td>NaN</td>\n",
       "    </tr>\n",
       "    <tr>\n",
       "      <th>50%</th>\n",
       "      <td>-118.490000</td>\n",
       "      <td>34.260000</td>\n",
       "      <td>29.000000</td>\n",
       "      <td>2127.000000</td>\n",
       "      <td>435.000000</td>\n",
       "      <td>1166.000000</td>\n",
       "      <td>409.000000</td>\n",
       "      <td>3.534800</td>\n",
       "      <td>179700.000000</td>\n",
       "      <td>NaN</td>\n",
       "    </tr>\n",
       "    <tr>\n",
       "      <th>75%</th>\n",
       "      <td>-118.010000</td>\n",
       "      <td>37.710000</td>\n",
       "      <td>37.000000</td>\n",
       "      <td>3148.000000</td>\n",
       "      <td>647.000000</td>\n",
       "      <td>1725.000000</td>\n",
       "      <td>605.000000</td>\n",
       "      <td>4.743250</td>\n",
       "      <td>264725.000000</td>\n",
       "      <td>NaN</td>\n",
       "    </tr>\n",
       "    <tr>\n",
       "      <th>max</th>\n",
       "      <td>-114.310000</td>\n",
       "      <td>41.950000</td>\n",
       "      <td>52.000000</td>\n",
       "      <td>39320.000000</td>\n",
       "      <td>6445.000000</td>\n",
       "      <td>35682.000000</td>\n",
       "      <td>6082.000000</td>\n",
       "      <td>15.000100</td>\n",
       "      <td>500001.000000</td>\n",
       "      <td>NaN</td>\n",
       "    </tr>\n",
       "  </tbody>\n",
       "</table>\n",
       "</div>"
      ],
      "text/plain": [
       "           longitude      latitude  housing_median_age   total_rooms  \\\n",
       "count   20640.000000  20640.000000        20640.000000  20640.000000   \n",
       "unique           NaN           NaN                 NaN           NaN   \n",
       "top              NaN           NaN                 NaN           NaN   \n",
       "freq             NaN           NaN                 NaN           NaN   \n",
       "mean     -119.569704     35.631861           28.639486   2635.763081   \n",
       "std         2.003532      2.135952           12.585558   2181.615252   \n",
       "min      -124.350000     32.540000            1.000000      2.000000   \n",
       "25%      -121.800000     33.930000           18.000000   1447.750000   \n",
       "50%      -118.490000     34.260000           29.000000   2127.000000   \n",
       "75%      -118.010000     37.710000           37.000000   3148.000000   \n",
       "max      -114.310000     41.950000           52.000000  39320.000000   \n",
       "\n",
       "        total_bedrooms    population    households  median_income  \\\n",
       "count     20433.000000  20640.000000  20640.000000   20640.000000   \n",
       "unique             NaN           NaN           NaN            NaN   \n",
       "top                NaN           NaN           NaN            NaN   \n",
       "freq               NaN           NaN           NaN            NaN   \n",
       "mean        537.870553   1425.476744    499.539680       3.870671   \n",
       "std         421.385070   1132.462122    382.329753       1.899822   \n",
       "min           1.000000      3.000000      1.000000       0.499900   \n",
       "25%         296.000000    787.000000    280.000000       2.563400   \n",
       "50%         435.000000   1166.000000    409.000000       3.534800   \n",
       "75%         647.000000   1725.000000    605.000000       4.743250   \n",
       "max        6445.000000  35682.000000   6082.000000      15.000100   \n",
       "\n",
       "        median_house_value ocean_proximity  \n",
       "count         20640.000000           20640  \n",
       "unique                 NaN               5  \n",
       "top                    NaN       <1H OCEAN  \n",
       "freq                   NaN            9136  \n",
       "mean         206855.816909             NaN  \n",
       "std          115395.615874             NaN  \n",
       "min           14999.000000             NaN  \n",
       "25%          119600.000000             NaN  \n",
       "50%          179700.000000             NaN  \n",
       "75%          264725.000000             NaN  \n",
       "max          500001.000000             NaN  "
      ]
     },
     "execution_count": 15,
     "metadata": {},
     "output_type": "execute_result"
    }
   ],
   "source": [
    "housing.describe(include='all')"
   ]
  },
  {
   "cell_type": "markdown",
   "id": "8227a2d6",
   "metadata": {},
   "source": [
    "# histplot"
   ]
  },
  {
   "cell_type": "code",
   "execution_count": 16,
   "id": "227b60a9",
   "metadata": {},
   "outputs": [
    {
     "data": {
      "image/png": "[encoded data removed]",
      "text/plain": [
       "<Figure size 1440x1080 with 9 Axes>"
      ]
     },
     "metadata": {
      "needs_background": "light"
     },
     "output_type": "display_data"
    }
   ],
   "source": [
    "%matplotlib inline\n",
    "import matplotlib.pyplot as plt\n",
    "housing.hist(bins=50,figsize=(20,15))\n",
    "plt.show()"
   ]
  },
  {
   "cell_type": "markdown",
   "id": "4ed9fc95",
   "metadata": {},
   "source": [
    "# Split train, test set "
   ]
  },
  {
   "cell_type": "code",
   "execution_count": 17,
   "id": "4d49f1dc",
   "metadata": {},
   "outputs": [],
   "source": [
    "from sklearn.model_selection import train_test_split\n",
    "\n",
    "train_set, test_set = train_test_split(housing, test_size=0.2, random_state=98)"
   ]
  },
  {
   "cell_type": "code",
   "execution_count": 18,
   "id": "5568e3f1",
   "metadata": {},
   "outputs": [],
   "source": [
    "# #  수동적인 방법\n",
    "# np.random.seed(42)\n",
    "# import numpy as np\n",
    "\n",
    "# def split_train_test(data,test_ratio):\n",
    "#     shuffled_indices = np.random.permutation(len(data))\n",
    "#     test_set_size = int(len(data)*test_ratio)\n",
    "#     test_indices = shuffled_indices[:test_set_size]"
   ]
  },
  {
   "cell_type": "code",
   "execution_count": 19,
   "id": "0515ca6e",
   "metadata": {},
   "outputs": [
    {
     "data": {
      "text/plain": [
       "(4128, 10)"
      ]
     },
     "execution_count": 19,
     "metadata": {},
     "output_type": "execute_result"
    }
   ],
   "source": [
    "train_set.shape\n",
    "test_set.shape\n"
   ]
  },
  {
   "cell_type": "code",
   "execution_count": null,
   "id": "fc495ba8",
   "metadata": {},
   "outputs": [],
   "source": []
  },
  {
   "cell_type": "markdown",
   "id": "b532a7a0",
   "metadata": {},
   "source": [
    "# 계측정 샘플링\n",
    "-> 샘플에서도 전체 인구의 비율을 대표할 수 있도록 선택해야함\n"
   ]
  },
  {
   "cell_type": "code",
   "execution_count": 20,
   "id": "54ba79d4",
   "metadata": {},
   "outputs": [],
   "source": [
    "housing['income_cat']= pd.cut(housing['median_income'],bins=[0.,1.5,3.0,4.5,6.,np.inf],labels=[1,2,3,4,5])"
   ]
  },
  {
   "cell_type": "code",
   "execution_count": 21,
   "id": "51fb312b",
   "metadata": {},
   "outputs": [
    {
     "data": {
      "text/html": [
       "<div>\n",
       "<style scoped>\n",
       "    .dataframe tbody tr th:only-of-type {\n",
       "        vertical-align: middle;\n",
       "    }\n",
       "\n",
       "    .dataframe tbody tr th {\n",
       "        vertical-align: top;\n",
       "    }\n",
       "\n",
       "    .dataframe thead th {\n",
       "        text-align: right;\n",
       "    }\n",
       "</style>\n",
       "<table border=\"1\" class=\"dataframe\">\n",
       "  <thead>\n",
       "    <tr style=\"text-align: right;\">\n",
       "      <th></th>\n",
       "      <th>longitude</th>\n",
       "      <th>latitude</th>\n",
       "      <th>housing_median_age</th>\n",
       "      <th>total_rooms</th>\n",
       "      <th>total_bedrooms</th>\n",
       "      <th>population</th>\n",
       "      <th>households</th>\n",
       "      <th>median_income</th>\n",
       "      <th>median_house_value</th>\n",
       "      <th>ocean_proximity</th>\n",
       "      <th>income_cat</th>\n",
       "    </tr>\n",
       "  </thead>\n",
       "  <tbody>\n",
       "    <tr>\n",
       "      <th>0</th>\n",
       "      <td>-122.23</td>\n",
       "      <td>37.88</td>\n",
       "      <td>41.0</td>\n",
       "      <td>880.0</td>\n",
       "      <td>129.0</td>\n",
       "      <td>322.0</td>\n",
       "      <td>126.0</td>\n",
       "      <td>8.3252</td>\n",
       "      <td>452600.0</td>\n",
       "      <td>NEAR BAY</td>\n",
       "      <td>5</td>\n",
       "    </tr>\n",
       "    <tr>\n",
       "      <th>1</th>\n",
       "      <td>-122.22</td>\n",
       "      <td>37.86</td>\n",
       "      <td>21.0</td>\n",
       "      <td>7099.0</td>\n",
       "      <td>1106.0</td>\n",
       "      <td>2401.0</td>\n",
       "      <td>1138.0</td>\n",
       "      <td>8.3014</td>\n",
       "      <td>358500.0</td>\n",
       "      <td>NEAR BAY</td>\n",
       "      <td>5</td>\n",
       "    </tr>\n",
       "    <tr>\n",
       "      <th>2</th>\n",
       "      <td>-122.24</td>\n",
       "      <td>37.85</td>\n",
       "      <td>52.0</td>\n",
       "      <td>1467.0</td>\n",
       "      <td>190.0</td>\n",
       "      <td>496.0</td>\n",
       "      <td>177.0</td>\n",
       "      <td>7.2574</td>\n",
       "      <td>352100.0</td>\n",
       "      <td>NEAR BAY</td>\n",
       "      <td>5</td>\n",
       "    </tr>\n",
       "    <tr>\n",
       "      <th>3</th>\n",
       "      <td>-122.25</td>\n",
       "      <td>37.85</td>\n",
       "      <td>52.0</td>\n",
       "      <td>1274.0</td>\n",
       "      <td>235.0</td>\n",
       "      <td>558.0</td>\n",
       "      <td>219.0</td>\n",
       "      <td>5.6431</td>\n",
       "      <td>341300.0</td>\n",
       "      <td>NEAR BAY</td>\n",
       "      <td>4</td>\n",
       "    </tr>\n",
       "    <tr>\n",
       "      <th>4</th>\n",
       "      <td>-122.25</td>\n",
       "      <td>37.85</td>\n",
       "      <td>52.0</td>\n",
       "      <td>1627.0</td>\n",
       "      <td>280.0</td>\n",
       "      <td>565.0</td>\n",
       "      <td>259.0</td>\n",
       "      <td>3.8462</td>\n",
       "      <td>342200.0</td>\n",
       "      <td>NEAR BAY</td>\n",
       "      <td>3</td>\n",
       "    </tr>\n",
       "    <tr>\n",
       "      <th>...</th>\n",
       "      <td>...</td>\n",
       "      <td>...</td>\n",
       "      <td>...</td>\n",
       "      <td>...</td>\n",
       "      <td>...</td>\n",
       "      <td>...</td>\n",
       "      <td>...</td>\n",
       "      <td>...</td>\n",
       "      <td>...</td>\n",
       "      <td>...</td>\n",
       "      <td>...</td>\n",
       "    </tr>\n",
       "    <tr>\n",
       "      <th>20635</th>\n",
       "      <td>-121.09</td>\n",
       "      <td>39.48</td>\n",
       "      <td>25.0</td>\n",
       "      <td>1665.0</td>\n",
       "      <td>374.0</td>\n",
       "      <td>845.0</td>\n",
       "      <td>330.0</td>\n",
       "      <td>1.5603</td>\n",
       "      <td>78100.0</td>\n",
       "      <td>INLAND</td>\n",
       "      <td>2</td>\n",
       "    </tr>\n",
       "    <tr>\n",
       "      <th>20636</th>\n",
       "      <td>-121.21</td>\n",
       "      <td>39.49</td>\n",
       "      <td>18.0</td>\n",
       "      <td>697.0</td>\n",
       "      <td>150.0</td>\n",
       "      <td>356.0</td>\n",
       "      <td>114.0</td>\n",
       "      <td>2.5568</td>\n",
       "      <td>77100.0</td>\n",
       "      <td>INLAND</td>\n",
       "      <td>2</td>\n",
       "    </tr>\n",
       "    <tr>\n",
       "      <th>20637</th>\n",
       "      <td>-121.22</td>\n",
       "      <td>39.43</td>\n",
       "      <td>17.0</td>\n",
       "      <td>2254.0</td>\n",
       "      <td>485.0</td>\n",
       "      <td>1007.0</td>\n",
       "      <td>433.0</td>\n",
       "      <td>1.7000</td>\n",
       "      <td>92300.0</td>\n",
       "      <td>INLAND</td>\n",
       "      <td>2</td>\n",
       "    </tr>\n",
       "    <tr>\n",
       "      <th>20638</th>\n",
       "      <td>-121.32</td>\n",
       "      <td>39.43</td>\n",
       "      <td>18.0</td>\n",
       "      <td>1860.0</td>\n",
       "      <td>409.0</td>\n",
       "      <td>741.0</td>\n",
       "      <td>349.0</td>\n",
       "      <td>1.8672</td>\n",
       "      <td>84700.0</td>\n",
       "      <td>INLAND</td>\n",
       "      <td>2</td>\n",
       "    </tr>\n",
       "    <tr>\n",
       "      <th>20639</th>\n",
       "      <td>-121.24</td>\n",
       "      <td>39.37</td>\n",
       "      <td>16.0</td>\n",
       "      <td>2785.0</td>\n",
       "      <td>616.0</td>\n",
       "      <td>1387.0</td>\n",
       "      <td>530.0</td>\n",
       "      <td>2.3886</td>\n",
       "      <td>89400.0</td>\n",
       "      <td>INLAND</td>\n",
       "      <td>2</td>\n",
       "    </tr>\n",
       "  </tbody>\n",
       "</table>\n",
       "<p>20640 rows × 11 columns</p>\n",
       "</div>"
      ],
      "text/plain": [
       "       longitude  latitude  housing_median_age  total_rooms  total_bedrooms  \\\n",
       "0        -122.23     37.88                41.0        880.0           129.0   \n",
       "1        -122.22     37.86                21.0       7099.0          1106.0   \n",
       "2        -122.24     37.85                52.0       1467.0           190.0   \n",
       "3        -122.25     37.85                52.0       1274.0           235.0   \n",
       "4        -122.25     37.85                52.0       1627.0           280.0   \n",
       "...          ...       ...                 ...          ...             ...   \n",
       "20635    -121.09     39.48                25.0       1665.0           374.0   \n",
       "20636    -121.21     39.49                18.0        697.0           150.0   \n",
       "20637    -121.22     39.43                17.0       2254.0           485.0   \n",
       "20638    -121.32     39.43                18.0       1860.0           409.0   \n",
       "20639    -121.24     39.37                16.0       2785.0           616.0   \n",
       "\n",
       "       population  households  median_income  median_house_value  \\\n",
       "0           322.0       126.0         8.3252            452600.0   \n",
       "1          2401.0      1138.0         8.3014            358500.0   \n",
       "2           496.0       177.0         7.2574            352100.0   \n",
       "3           558.0       219.0         5.6431            341300.0   \n",
       "4           565.0       259.0         3.8462            342200.0   \n",
       "...           ...         ...            ...                 ...   \n",
       "20635       845.0       330.0         1.5603             78100.0   \n",
       "20636       356.0       114.0         2.5568             77100.0   \n",
       "20637      1007.0       433.0         1.7000             92300.0   \n",
       "20638       741.0       349.0         1.8672             84700.0   \n",
       "20639      1387.0       530.0         2.3886             89400.0   \n",
       "\n",
       "      ocean_proximity income_cat  \n",
       "0            NEAR BAY          5  \n",
       "1            NEAR BAY          5  \n",
       "2            NEAR BAY          5  \n",
       "3            NEAR BAY          4  \n",
       "4            NEAR BAY          3  \n",
       "...               ...        ...  \n",
       "20635          INLAND          2  \n",
       "20636          INLAND          2  \n",
       "20637          INLAND          2  \n",
       "20638          INLAND          2  \n",
       "20639          INLAND          2  \n",
       "\n",
       "[20640 rows x 11 columns]"
      ]
     },
     "execution_count": 21,
     "metadata": {},
     "output_type": "execute_result"
    }
   ],
   "source": [
    "housing"
   ]
  },
  {
   "cell_type": "code",
   "execution_count": 22,
   "id": "c4ce0032",
   "metadata": {},
   "outputs": [
    {
     "data": {
      "text/plain": [
       "<AxesSubplot:>"
      ]
     },
     "execution_count": 22,
     "metadata": {},
     "output_type": "execute_result"
    },
    {
     "data": {
      "image/png": "[encoded data removed]",
      "text/plain": [
       "<Figure size 432x288 with 1 Axes>"
      ]
     },
     "metadata": {
      "needs_background": "light"
     },
     "output_type": "display_data"
    }
   ],
   "source": [
    "housing['income_cat'].hist()"
   ]
  },
  {
   "cell_type": "markdown",
   "id": "3ce0faf4",
   "metadata": {},
   "source": [
    "-> 위의 그래프 결과 중간소득이 중간 주택 가격을 예측하는 데 매우 중요하다라는 가정을 세울 수 있음"
   ]
  },
  {
   "cell_type": "markdown",
   "id": "92e9f253",
   "metadata": {},
   "source": [
    "# 계층적  데이터 만들기"
   ]
  },
  {
   "cell_type": "code",
   "execution_count": 23,
   "id": "600fb3c4",
   "metadata": {},
   "outputs": [
    {
     "data": {
      "text/plain": [
       "3    0.350533\n",
       "2    0.318798\n",
       "4    0.176357\n",
       "5    0.114341\n",
       "1    0.039971\n",
       "Name: income_cat, dtype: float64"
      ]
     },
     "execution_count": 23,
     "metadata": {},
     "output_type": "execute_result"
    }
   ],
   "source": [
    "from sklearn.model_selection import StratifiedShuffleSplit\n",
    "\n",
    "\n",
    "split = StratifiedShuffleSplit(n_splits=1,test_size=0.2,random_state=98)\n",
    "for train_index,test_index in split.split(housing,housing['income_cat']):\n",
    "    strat_train_set = housing.loc[train_index]\n",
    "    strat_test_set = housing.loc[test_index]\n",
    "\n",
    "strat_test_set['income_cat'].value_counts() / len(strat_test_set)"
   ]
  },
  {
   "cell_type": "code",
   "execution_count": 24,
   "id": "398f26cb",
   "metadata": {},
   "outputs": [
    {
     "data": {
      "text/html": [
       "<div>\n",
       "<style scoped>\n",
       "    .dataframe tbody tr th:only-of-type {\n",
       "        vertical-align: middle;\n",
       "    }\n",
       "\n",
       "    .dataframe tbody tr th {\n",
       "        vertical-align: top;\n",
       "    }\n",
       "\n",
       "    .dataframe thead th {\n",
       "        text-align: right;\n",
       "    }\n",
       "</style>\n",
       "<table border=\"1\" class=\"dataframe\">\n",
       "  <thead>\n",
       "    <tr style=\"text-align: right;\">\n",
       "      <th></th>\n",
       "      <th>longitude</th>\n",
       "      <th>latitude</th>\n",
       "      <th>housing_median_age</th>\n",
       "      <th>total_rooms</th>\n",
       "      <th>total_bedrooms</th>\n",
       "      <th>population</th>\n",
       "      <th>households</th>\n",
       "      <th>median_income</th>\n",
       "      <th>median_house_value</th>\n",
       "      <th>ocean_proximity</th>\n",
       "      <th>income_cat</th>\n",
       "    </tr>\n",
       "  </thead>\n",
       "  <tbody>\n",
       "    <tr>\n",
       "      <th>9100</th>\n",
       "      <td>-117.92</td>\n",
       "      <td>34.59</td>\n",
       "      <td>7.0</td>\n",
       "      <td>681.0</td>\n",
       "      <td>125.0</td>\n",
       "      <td>485.0</td>\n",
       "      <td>104.0</td>\n",
       "      <td>2.7396</td>\n",
       "      <td>125600.0</td>\n",
       "      <td>INLAND</td>\n",
       "      <td>2</td>\n",
       "    </tr>\n",
       "    <tr>\n",
       "      <th>19610</th>\n",
       "      <td>-121.14</td>\n",
       "      <td>37.48</td>\n",
       "      <td>6.0</td>\n",
       "      <td>1772.0</td>\n",
       "      <td>332.0</td>\n",
       "      <td>1011.0</td>\n",
       "      <td>331.0</td>\n",
       "      <td>3.7045</td>\n",
       "      <td>128100.0</td>\n",
       "      <td>INLAND</td>\n",
       "      <td>3</td>\n",
       "    </tr>\n",
       "    <tr>\n",
       "      <th>17911</th>\n",
       "      <td>-121.98</td>\n",
       "      <td>37.36</td>\n",
       "      <td>33.0</td>\n",
       "      <td>1582.0</td>\n",
       "      <td>272.0</td>\n",
       "      <td>809.0</td>\n",
       "      <td>267.0</td>\n",
       "      <td>5.7059</td>\n",
       "      <td>287200.0</td>\n",
       "      <td>&lt;1H OCEAN</td>\n",
       "      <td>4</td>\n",
       "    </tr>\n",
       "    <tr>\n",
       "      <th>20303</th>\n",
       "      <td>-119.18</td>\n",
       "      <td>34.16</td>\n",
       "      <td>12.0</td>\n",
       "      <td>460.0</td>\n",
       "      <td>101.0</td>\n",
       "      <td>405.0</td>\n",
       "      <td>103.0</td>\n",
       "      <td>5.2783</td>\n",
       "      <td>167400.0</td>\n",
       "      <td>NEAR OCEAN</td>\n",
       "      <td>4</td>\n",
       "    </tr>\n",
       "    <tr>\n",
       "      <th>6341</th>\n",
       "      <td>-117.90</td>\n",
       "      <td>33.97</td>\n",
       "      <td>23.0</td>\n",
       "      <td>7353.0</td>\n",
       "      <td>1255.0</td>\n",
       "      <td>4014.0</td>\n",
       "      <td>1124.0</td>\n",
       "      <td>5.4155</td>\n",
       "      <td>213200.0</td>\n",
       "      <td>&lt;1H OCEAN</td>\n",
       "      <td>4</td>\n",
       "    </tr>\n",
       "    <tr>\n",
       "      <th>...</th>\n",
       "      <td>...</td>\n",
       "      <td>...</td>\n",
       "      <td>...</td>\n",
       "      <td>...</td>\n",
       "      <td>...</td>\n",
       "      <td>...</td>\n",
       "      <td>...</td>\n",
       "      <td>...</td>\n",
       "      <td>...</td>\n",
       "      <td>...</td>\n",
       "      <td>...</td>\n",
       "    </tr>\n",
       "    <tr>\n",
       "      <th>12954</th>\n",
       "      <td>-121.28</td>\n",
       "      <td>38.68</td>\n",
       "      <td>14.0</td>\n",
       "      <td>11442.0</td>\n",
       "      <td>2690.0</td>\n",
       "      <td>6068.0</td>\n",
       "      <td>2435.0</td>\n",
       "      <td>2.6016</td>\n",
       "      <td>121200.0</td>\n",
       "      <td>INLAND</td>\n",
       "      <td>2</td>\n",
       "    </tr>\n",
       "    <tr>\n",
       "      <th>10945</th>\n",
       "      <td>-117.88</td>\n",
       "      <td>33.74</td>\n",
       "      <td>19.0</td>\n",
       "      <td>2261.0</td>\n",
       "      <td>642.0</td>\n",
       "      <td>3545.0</td>\n",
       "      <td>635.0</td>\n",
       "      <td>2.5224</td>\n",
       "      <td>148500.0</td>\n",
       "      <td>&lt;1H OCEAN</td>\n",
       "      <td>2</td>\n",
       "    </tr>\n",
       "    <tr>\n",
       "      <th>15468</th>\n",
       "      <td>-117.19</td>\n",
       "      <td>33.18</td>\n",
       "      <td>7.0</td>\n",
       "      <td>3561.0</td>\n",
       "      <td>722.0</td>\n",
       "      <td>1921.0</td>\n",
       "      <td>657.0</td>\n",
       "      <td>4.1128</td>\n",
       "      <td>209700.0</td>\n",
       "      <td>&lt;1H OCEAN</td>\n",
       "      <td>3</td>\n",
       "    </tr>\n",
       "    <tr>\n",
       "      <th>4878</th>\n",
       "      <td>-118.24</td>\n",
       "      <td>34.03</td>\n",
       "      <td>52.0</td>\n",
       "      <td>142.0</td>\n",
       "      <td>47.0</td>\n",
       "      <td>137.0</td>\n",
       "      <td>45.0</td>\n",
       "      <td>1.8333</td>\n",
       "      <td>312500.0</td>\n",
       "      <td>&lt;1H OCEAN</td>\n",
       "      <td>2</td>\n",
       "    </tr>\n",
       "    <tr>\n",
       "      <th>7089</th>\n",
       "      <td>-118.00</td>\n",
       "      <td>33.94</td>\n",
       "      <td>37.0</td>\n",
       "      <td>903.0</td>\n",
       "      <td>158.0</td>\n",
       "      <td>444.0</td>\n",
       "      <td>158.0</td>\n",
       "      <td>3.7500</td>\n",
       "      <td>174400.0</td>\n",
       "      <td>&lt;1H OCEAN</td>\n",
       "      <td>3</td>\n",
       "    </tr>\n",
       "  </tbody>\n",
       "</table>\n",
       "<p>4128 rows × 11 columns</p>\n",
       "</div>"
      ],
      "text/plain": [
       "       longitude  latitude  housing_median_age  total_rooms  total_bedrooms  \\\n",
       "9100     -117.92     34.59                 7.0        681.0           125.0   \n",
       "19610    -121.14     37.48                 6.0       1772.0           332.0   \n",
       "17911    -121.98     37.36                33.0       1582.0           272.0   \n",
       "20303    -119.18     34.16                12.0        460.0           101.0   \n",
       "6341     -117.90     33.97                23.0       7353.0          1255.0   \n",
       "...          ...       ...                 ...          ...             ...   \n",
       "12954    -121.28     38.68                14.0      11442.0          2690.0   \n",
       "10945    -117.88     33.74                19.0       2261.0           642.0   \n",
       "15468    -117.19     33.18                 7.0       3561.0           722.0   \n",
       "4878     -118.24     34.03                52.0        142.0            47.0   \n",
       "7089     -118.00     33.94                37.0        903.0           158.0   \n",
       "\n",
       "       population  households  median_income  median_house_value  \\\n",
       "9100        485.0       104.0         2.7396            125600.0   \n",
       "19610      1011.0       331.0         3.7045            128100.0   \n",
       "17911       809.0       267.0         5.7059            287200.0   \n",
       "20303       405.0       103.0         5.2783            167400.0   \n",
       "6341       4014.0      1124.0         5.4155            213200.0   \n",
       "...           ...         ...            ...                 ...   \n",
       "12954      6068.0      2435.0         2.6016            121200.0   \n",
       "10945      3545.0       635.0         2.5224            148500.0   \n",
       "15468      1921.0       657.0         4.1128            209700.0   \n",
       "4878        137.0        45.0         1.8333            312500.0   \n",
       "7089        444.0       158.0         3.7500            174400.0   \n",
       "\n",
       "      ocean_proximity income_cat  \n",
       "9100           INLAND          2  \n",
       "19610          INLAND          3  \n",
       "17911       <1H OCEAN          4  \n",
       "20303      NEAR OCEAN          4  \n",
       "6341        <1H OCEAN          4  \n",
       "...               ...        ...  \n",
       "12954          INLAND          2  \n",
       "10945       <1H OCEAN          2  \n",
       "15468       <1H OCEAN          3  \n",
       "4878        <1H OCEAN          2  \n",
       "7089        <1H OCEAN          3  \n",
       "\n",
       "[4128 rows x 11 columns]"
      ]
     },
     "execution_count": 24,
     "metadata": {},
     "output_type": "execute_result"
    }
   ],
   "source": [
    "strat_test_set"
   ]
  },
  {
   "cell_type": "markdown",
   "id": "e2d6ec56",
   "metadata": {},
   "source": [
    "# 지리적 데이터 시각화"
   ]
  },
  {
   "cell_type": "code",
   "execution_count": 25,
   "id": "11e0d9ea",
   "metadata": {},
   "outputs": [
    {
     "data": {
      "text/plain": [
       "<AxesSubplot:xlabel='longitude', ylabel='latitude'>"
      ]
     },
     "execution_count": 25,
     "metadata": {},
     "output_type": "execute_result"
    },
    {
     "data": {
      "image/png": "[encoded data removed]",
      "text/plain": [
       "<Figure size 432x288 with 1 Axes>"
      ]
     },
     "metadata": {
      "needs_background": "light"
     },
     "output_type": "display_data"
    }
   ],
   "source": [
    "housing.plot(kind='scatter',x='longitude',y='latitude')"
   ]
  },
  {
   "cell_type": "code",
   "execution_count": 26,
   "id": "2e76bb73",
   "metadata": {},
   "outputs": [
    {
     "data": {
      "text/plain": [
       "<AxesSubplot:xlabel='longitude', ylabel='latitude'>"
      ]
     },
     "execution_count": 26,
     "metadata": {},
     "output_type": "execute_result"
    },
    {
     "data": {
      "image/png": "[encoded data removed]",
      "text/plain": [
       "<Figure size 432x288 with 1 Axes>"
      ]
     },
     "metadata": {
      "needs_background": "light"
     },
     "output_type": "display_data"
    }
   ],
   "source": [
    "housing.plot(kind='scatter',x='longitude',y='latitude',alpha=0.1)"
   ]
  },
  {
   "cell_type": "code",
   "execution_count": 34,
   "id": "4496efad",
   "metadata": {},
   "outputs": [
    {
     "data": {
      "text/plain": [
       "<matplotlib.legend.Legend at 0x7fd733fd5970>"
      ]
     },
     "execution_count": 34,
     "metadata": {},
     "output_type": "execute_result"
    },
    {
     "data": {
      "image/png": "[encoded data removed]",
      "text/plain": [
       "<Figure size 720x504 with 2 Axes>"
      ]
     },
     "metadata": {
      "needs_background": "light"
     },
     "output_type": "display_data"
    }
   ],
   "source": [
    "housing.plot(kind='scatter',x='longitude',y='latitude',alpha=0.4,s=housing['population']/100,label='population',\n",
    "             figsize=(10,7),c='median_house_value',cmap=plt.get_cmap('summer'),colorbar=True,sharex=False)\n",
    "plt.legend()"
   ]
  },
  {
   "cell_type": "markdown",
   "id": "b497ee23",
   "metadata": {},
   "source": [
    "# 상관관계 조사"
   ]
  },
  {
   "cell_type": "code",
   "execution_count": 28,
   "id": "22b835a6",
   "metadata": {},
   "outputs": [],
   "source": [
    "corr_matrix = housing.corr()"
   ]
  },
  {
   "cell_type": "code",
   "execution_count": 29,
   "id": "06833ae4",
   "metadata": {},
   "outputs": [
    {
     "data": {
      "text/plain": [
       "median_house_value    1.000000\n",
       "median_income         0.688075\n",
       "total_rooms           0.134153\n",
       "housing_median_age    0.105623\n",
       "households            0.065843\n",
       "total_bedrooms        0.049686\n",
       "population           -0.024650\n",
       "longitude            -0.045967\n",
       "latitude             -0.144160\n",
       "Name: median_house_value, dtype: float64"
      ]
     },
     "execution_count": 29,
     "metadata": {},
     "output_type": "execute_result"
    }
   ],
   "source": [
    "# 중간가격칼럼과 다른 칼럼간의 상관계수를 볼수 있음\n",
    "corr_matrix['median_house_value'].sort_values(ascending=False)"
   ]
  },
  {
   "cell_type": "code",
   "execution_count": 30,
   "id": "0f7e6812",
   "metadata": {},
   "outputs": [
    {
     "data": {
      "text/plain": [
       "array([[<AxesSubplot:xlabel='median_house_value', ylabel='median_house_value'>,\n",
       "        <AxesSubplot:xlabel='median_income', ylabel='median_house_value'>,\n",
       "        <AxesSubplot:xlabel='total_rooms', ylabel='median_house_value'>,\n",
       "        <AxesSubplot:xlabel='housing_median_age', ylabel='median_house_value'>],\n",
       "       [<AxesSubplot:xlabel='median_house_value', ylabel='median_income'>,\n",
       "        <AxesSubplot:xlabel='median_income', ylabel='median_income'>,\n",
       "        <AxesSubplot:xlabel='total_rooms', ylabel='median_income'>,\n",
       "        <AxesSubplot:xlabel='housing_median_age', ylabel='median_income'>],\n",
       "       [<AxesSubplot:xlabel='median_house_value', ylabel='total_rooms'>,\n",
       "        <AxesSubplot:xlabel='median_income', ylabel='total_rooms'>,\n",
       "        <AxesSubplot:xlabel='total_rooms', ylabel='total_rooms'>,\n",
       "        <AxesSubplot:xlabel='housing_median_age', ylabel='total_rooms'>],\n",
       "       [<AxesSubplot:xlabel='median_house_value', ylabel='housing_median_age'>,\n",
       "        <AxesSubplot:xlabel='median_income', ylabel='housing_median_age'>,\n",
       "        <AxesSubplot:xlabel='total_rooms', ylabel='housing_median_age'>,\n",
       "        <AxesSubplot:xlabel='housing_median_age', ylabel='housing_median_age'>]],\n",
       "      dtype=object)"
      ]
     },
     "execution_count": 30,
     "metadata": {},
     "output_type": "execute_result"
    },
    {
     "data": {
      "image/png": "[encoded data removed]",
      "text/plain": [
       "<Figure size 864x576 with 16 Axes>"
      ]
     },
     "metadata": {
      "needs_background": "light"
     },
     "output_type": "display_data"
    }
   ],
   "source": [
    "from pandas.plotting import scatter_matrix\n",
    "\n",
    "attributes=['median_house_value','median_income','total_rooms','housing_median_age']\n",
    "scatter_matrix(housing[attributes],figsize=(12,8))"
   ]
  },
  {
   "cell_type": "code",
   "execution_count": 31,
   "id": "152f5b15",
   "metadata": {},
   "outputs": [
    {
     "data": {
      "text/plain": [
       "<AxesSubplot:xlabel='median_income', ylabel='median_house_value'>"
      ]
     },
     "execution_count": 31,
     "metadata": {},
     "output_type": "execute_result"
    },
    {
     "data": {
      "image/png": "[encoded data removed]",
      "text/plain": [
       "<Figure size 432x288 with 1 Axes>"
      ]
     },
     "metadata": {
      "needs_background": "light"
     },
     "output_type": "display_data"
    }
   ],
   "source": [
    "housing.plot(kind='scatter',x='median_income',y='median_house_value',alpha=0.1)\n",
    "# 양의 상관관계가 보임"
   ]
  },
  {
   "cell_type": "markdown",
   "id": "6cdf6ef6",
   "metadata": {},
   "source": [
    "# 다중공산성 문제\n",
    "-> 상관계수가 높은 변수들 때문에 나머지 변수들에게서 정보를 잘얻지 못함.\n",
    "\n",
    "! 머신러닝에서만 잘활용하고, 딥러닝에선 잘 사용하지 않음"
   ]
  },
  {
   "cell_type": "code",
   "execution_count": 32,
   "id": "5dc1c688",
   "metadata": {},
   "outputs": [],
   "source": [
    "housing['rooms_per_household']=housing['total_rooms']/housing['households']\n",
    "housing['bedrooms_per_rooms']=housing['total_bedrooms']/housing['total_rooms']\n",
    "housing['population_per_household']=housing['population']/housing['households']"
   ]
  },
  {
   "cell_type": "code",
   "execution_count": 33,
   "id": "cb2a494c",
   "metadata": {},
   "outputs": [
    {
     "data": {
      "text/plain": [
       "median_house_value          1.000000\n",
       "median_income               0.688075\n",
       "rooms_per_household         0.151948\n",
       "total_rooms                 0.134153\n",
       "housing_median_age          0.105623\n",
       "households                  0.065843\n",
       "total_bedrooms              0.049686\n",
       "population_per_household   -0.023737\n",
       "population                 -0.024650\n",
       "longitude                  -0.045967\n",
       "latitude                   -0.144160\n",
       "bedrooms_per_rooms         -0.255880\n",
       "Name: median_house_value, dtype: float64"
      ]
     },
     "execution_count": 33,
     "metadata": {},
     "output_type": "execute_result"
    }
   ],
   "source": [
    "corr_matrix=housing.corr()\n",
    "corr_matrix['median_house_value'].sort_values(ascending=False )"
   ]
  },
  {
   "cell_type": "code",
   "execution_count": null,
   "id": "52de003f",
   "metadata": {},
   "outputs": [],
   "source": [
    "\n",
    "\n"
   ]
  },
  {
   "cell_type": "markdown",
   "id": "e26dd5b2",
   "metadata": {},
   "source": [
    "# 머신러닝을 위한 데이터준비"
   ]
  },
  {
   "cell_type": "code",
   "execution_count": 42,
   "id": "d54aa12e",
   "metadata": {},
   "outputs": [],
   "source": [
    "pd.options.display.float_format = '{:.1f}'.format\n"
   ]
  },
  {
   "cell_type": "code",
   "execution_count": 67,
   "id": "c3063067",
   "metadata": {},
   "outputs": [],
   "source": [
    "housing = strat_train_set.drop(\"median_house_value\", axis=1) # 훈련 세트를 위해 레이블 삭제\n",
    "housing_labels = strat_train_set[\"median_house_value\"].copy()\n"
   ]
  },
  {
   "cell_type": "code",
   "execution_count": 68,
   "id": "17bc6c7e",
   "metadata": {},
   "outputs": [
    {
     "data": {
      "text/html": [
       "<div>\n",
       "<style scoped>\n",
       "    .dataframe tbody tr th:only-of-type {\n",
       "        vertical-align: middle;\n",
       "    }\n",
       "\n",
       "    .dataframe tbody tr th {\n",
       "        vertical-align: top;\n",
       "    }\n",
       "\n",
       "    .dataframe thead th {\n",
       "        text-align: right;\n",
       "    }\n",
       "</style>\n",
       "<table border=\"1\" class=\"dataframe\">\n",
       "  <thead>\n",
       "    <tr style=\"text-align: right;\">\n",
       "      <th></th>\n",
       "      <th>longitude</th>\n",
       "      <th>latitude</th>\n",
       "      <th>housing_median_age</th>\n",
       "      <th>total_rooms</th>\n",
       "      <th>total_bedrooms</th>\n",
       "      <th>population</th>\n",
       "      <th>households</th>\n",
       "      <th>median_income</th>\n",
       "      <th>ocean_proximity</th>\n",
       "      <th>income_cat</th>\n",
       "    </tr>\n",
       "  </thead>\n",
       "  <tbody>\n",
       "    <tr>\n",
       "      <th>11441</th>\n",
       "      <td>-118.0</td>\n",
       "      <td>33.7</td>\n",
       "      <td>18.0</td>\n",
       "      <td>3833.0</td>\n",
       "      <td>NaN</td>\n",
       "      <td>2192.0</td>\n",
       "      <td>996.0</td>\n",
       "      <td>3.5</td>\n",
       "      <td>&lt;1H OCEAN</td>\n",
       "      <td>3</td>\n",
       "    </tr>\n",
       "    <tr>\n",
       "      <th>4767</th>\n",
       "      <td>-118.4</td>\n",
       "      <td>34.0</td>\n",
       "      <td>37.0</td>\n",
       "      <td>1236.0</td>\n",
       "      <td>NaN</td>\n",
       "      <td>966.0</td>\n",
       "      <td>292.0</td>\n",
       "      <td>3.1</td>\n",
       "      <td>&lt;1H OCEAN</td>\n",
       "      <td>3</td>\n",
       "    </tr>\n",
       "    <tr>\n",
       "      <th>19122</th>\n",
       "      <td>-122.7</td>\n",
       "      <td>38.2</td>\n",
       "      <td>23.0</td>\n",
       "      <td>4030.0</td>\n",
       "      <td>NaN</td>\n",
       "      <td>1852.0</td>\n",
       "      <td>778.0</td>\n",
       "      <td>3.4</td>\n",
       "      <td>&lt;1H OCEAN</td>\n",
       "      <td>3</td>\n",
       "    </tr>\n",
       "    <tr>\n",
       "      <th>9571</th>\n",
       "      <td>-120.6</td>\n",
       "      <td>37.4</td>\n",
       "      <td>16.0</td>\n",
       "      <td>638.0</td>\n",
       "      <td>NaN</td>\n",
       "      <td>380.0</td>\n",
       "      <td>132.0</td>\n",
       "      <td>1.9</td>\n",
       "      <td>INLAND</td>\n",
       "      <td>2</td>\n",
       "    </tr>\n",
       "    <tr>\n",
       "      <th>2578</th>\n",
       "      <td>-124.1</td>\n",
       "      <td>40.9</td>\n",
       "      <td>34.0</td>\n",
       "      <td>4183.0</td>\n",
       "      <td>NaN</td>\n",
       "      <td>1891.0</td>\n",
       "      <td>669.0</td>\n",
       "      <td>3.2</td>\n",
       "      <td>NEAR OCEAN</td>\n",
       "      <td>3</td>\n",
       "    </tr>\n",
       "  </tbody>\n",
       "</table>\n",
       "</div>"
      ],
      "text/plain": [
       "       longitude  latitude  housing_median_age  total_rooms  total_bedrooms  \\\n",
       "11441     -118.0      33.7                18.0       3833.0             NaN   \n",
       "4767      -118.4      34.0                37.0       1236.0             NaN   \n",
       "19122     -122.7      38.2                23.0       4030.0             NaN   \n",
       "9571      -120.6      37.4                16.0        638.0             NaN   \n",
       "2578      -124.1      40.9                34.0       4183.0             NaN   \n",
       "\n",
       "       population  households  median_income ocean_proximity income_cat  \n",
       "11441      2192.0       996.0            3.5       <1H OCEAN          3  \n",
       "4767        966.0       292.0            3.1       <1H OCEAN          3  \n",
       "19122      1852.0       778.0            3.4       <1H OCEAN          3  \n",
       "9571        380.0       132.0            1.9          INLAND          2  \n",
       "2578       1891.0       669.0            3.2      NEAR OCEAN          3  "
      ]
     },
     "execution_count": 68,
     "metadata": {},
     "output_type": "execute_result"
    }
   ],
   "source": [
    "sample_incomplete_rows = housing[housing.isnull().any(axis=1)].head()\n",
    "sample_incomplete_rows"
   ]
  },
  {
   "cell_type": "code",
   "execution_count": 69,
   "id": "3e9248e1",
   "metadata": {},
   "outputs": [
    {
     "data": {
      "text/html": [
       "<div>\n",
       "<style scoped>\n",
       "    .dataframe tbody tr th:only-of-type {\n",
       "        vertical-align: middle;\n",
       "    }\n",
       "\n",
       "    .dataframe tbody tr th {\n",
       "        vertical-align: top;\n",
       "    }\n",
       "\n",
       "    .dataframe thead th {\n",
       "        text-align: right;\n",
       "    }\n",
       "</style>\n",
       "<table border=\"1\" class=\"dataframe\">\n",
       "  <thead>\n",
       "    <tr style=\"text-align: right;\">\n",
       "      <th></th>\n",
       "      <th>longitude</th>\n",
       "      <th>latitude</th>\n",
       "      <th>housing_median_age</th>\n",
       "      <th>total_rooms</th>\n",
       "      <th>total_bedrooms</th>\n",
       "      <th>population</th>\n",
       "      <th>households</th>\n",
       "      <th>median_income</th>\n",
       "      <th>ocean_proximity</th>\n",
       "      <th>income_cat</th>\n",
       "    </tr>\n",
       "  </thead>\n",
       "  <tbody>\n",
       "  </tbody>\n",
       "</table>\n",
       "</div>"
      ],
      "text/plain": [
       "Empty DataFrame\n",
       "Columns: [longitude, latitude, housing_median_age, total_rooms, total_bedrooms, population, households, median_income, ocean_proximity, income_cat]\n",
       "Index: []"
      ]
     },
     "execution_count": 69,
     "metadata": {},
     "output_type": "execute_result"
    }
   ],
   "source": [
    "# 칼럼에 널값이 있는 행 삭제\n",
    "# 방법 1\n",
    "# total_bedrooms 칼럼에 널값이 있는 행 삭제\n",
    "sample_incomplete_rows.dropna(subset =['total_bedrooms'])"
   ]
  },
  {
   "cell_type": "code",
   "execution_count": 70,
   "id": "1e046bc1",
   "metadata": {},
   "outputs": [
    {
     "data": {
      "text/html": [
       "<div>\n",
       "<style scoped>\n",
       "    .dataframe tbody tr th:only-of-type {\n",
       "        vertical-align: middle;\n",
       "    }\n",
       "\n",
       "    .dataframe tbody tr th {\n",
       "        vertical-align: top;\n",
       "    }\n",
       "\n",
       "    .dataframe thead th {\n",
       "        text-align: right;\n",
       "    }\n",
       "</style>\n",
       "<table border=\"1\" class=\"dataframe\">\n",
       "  <thead>\n",
       "    <tr style=\"text-align: right;\">\n",
       "      <th></th>\n",
       "      <th>longitude</th>\n",
       "      <th>latitude</th>\n",
       "      <th>housing_median_age</th>\n",
       "      <th>total_rooms</th>\n",
       "      <th>population</th>\n",
       "      <th>households</th>\n",
       "      <th>median_income</th>\n",
       "      <th>ocean_proximity</th>\n",
       "      <th>income_cat</th>\n",
       "    </tr>\n",
       "  </thead>\n",
       "  <tbody>\n",
       "    <tr>\n",
       "      <th>11441</th>\n",
       "      <td>-118.0</td>\n",
       "      <td>33.7</td>\n",
       "      <td>18.0</td>\n",
       "      <td>3833.0</td>\n",
       "      <td>2192.0</td>\n",
       "      <td>996.0</td>\n",
       "      <td>3.5</td>\n",
       "      <td>&lt;1H OCEAN</td>\n",
       "      <td>3</td>\n",
       "    </tr>\n",
       "    <tr>\n",
       "      <th>4767</th>\n",
       "      <td>-118.4</td>\n",
       "      <td>34.0</td>\n",
       "      <td>37.0</td>\n",
       "      <td>1236.0</td>\n",
       "      <td>966.0</td>\n",
       "      <td>292.0</td>\n",
       "      <td>3.1</td>\n",
       "      <td>&lt;1H OCEAN</td>\n",
       "      <td>3</td>\n",
       "    </tr>\n",
       "    <tr>\n",
       "      <th>19122</th>\n",
       "      <td>-122.7</td>\n",
       "      <td>38.2</td>\n",
       "      <td>23.0</td>\n",
       "      <td>4030.0</td>\n",
       "      <td>1852.0</td>\n",
       "      <td>778.0</td>\n",
       "      <td>3.4</td>\n",
       "      <td>&lt;1H OCEAN</td>\n",
       "      <td>3</td>\n",
       "    </tr>\n",
       "    <tr>\n",
       "      <th>9571</th>\n",
       "      <td>-120.6</td>\n",
       "      <td>37.4</td>\n",
       "      <td>16.0</td>\n",
       "      <td>638.0</td>\n",
       "      <td>380.0</td>\n",
       "      <td>132.0</td>\n",
       "      <td>1.9</td>\n",
       "      <td>INLAND</td>\n",
       "      <td>2</td>\n",
       "    </tr>\n",
       "    <tr>\n",
       "      <th>2578</th>\n",
       "      <td>-124.1</td>\n",
       "      <td>40.9</td>\n",
       "      <td>34.0</td>\n",
       "      <td>4183.0</td>\n",
       "      <td>1891.0</td>\n",
       "      <td>669.0</td>\n",
       "      <td>3.2</td>\n",
       "      <td>NEAR OCEAN</td>\n",
       "      <td>3</td>\n",
       "    </tr>\n",
       "  </tbody>\n",
       "</table>\n",
       "</div>"
      ],
      "text/plain": [
       "       longitude  latitude  housing_median_age  total_rooms  population  \\\n",
       "11441     -118.0      33.7                18.0       3833.0      2192.0   \n",
       "4767      -118.4      34.0                37.0       1236.0       966.0   \n",
       "19122     -122.7      38.2                23.0       4030.0      1852.0   \n",
       "9571      -120.6      37.4                16.0        638.0       380.0   \n",
       "2578      -124.1      40.9                34.0       4183.0      1891.0   \n",
       "\n",
       "       households  median_income ocean_proximity income_cat  \n",
       "11441       996.0            3.5       <1H OCEAN          3  \n",
       "4767        292.0            3.1       <1H OCEAN          3  \n",
       "19122       778.0            3.4       <1H OCEAN          3  \n",
       "9571        132.0            1.9          INLAND          2  \n",
       "2578        669.0            3.2      NEAR OCEAN          3  "
      ]
     },
     "execution_count": 70,
     "metadata": {},
     "output_type": "execute_result"
    }
   ],
   "source": [
    "# 방법 2\n",
    "# 칼럼을 기준으로 삭제\n",
    "sample_incomplete_rows.drop('total_bedrooms',axis=1)"
   ]
  },
  {
   "cell_type": "code",
   "execution_count": 71,
   "id": "bfc00a3f",
   "metadata": {},
   "outputs": [],
   "source": [
    "# 옵션3\n",
    "# 널값대신 median값 채우기\n",
    "median = housing['total_bedrooms'].median()\n",
    "sample_incomplete_rows['total_bedrooms'].fillna(median,inplace=True)"
   ]
  },
  {
   "cell_type": "code",
   "execution_count": 72,
   "id": "5840ac41",
   "metadata": {},
   "outputs": [
    {
     "data": {
      "text/html": [
       "<div>\n",
       "<style scoped>\n",
       "    .dataframe tbody tr th:only-of-type {\n",
       "        vertical-align: middle;\n",
       "    }\n",
       "\n",
       "    .dataframe tbody tr th {\n",
       "        vertical-align: top;\n",
       "    }\n",
       "\n",
       "    .dataframe thead th {\n",
       "        text-align: right;\n",
       "    }\n",
       "</style>\n",
       "<table border=\"1\" class=\"dataframe\">\n",
       "  <thead>\n",
       "    <tr style=\"text-align: right;\">\n",
       "      <th></th>\n",
       "      <th>longitude</th>\n",
       "      <th>latitude</th>\n",
       "      <th>housing_median_age</th>\n",
       "      <th>total_rooms</th>\n",
       "      <th>total_bedrooms</th>\n",
       "      <th>population</th>\n",
       "      <th>households</th>\n",
       "      <th>median_income</th>\n",
       "      <th>ocean_proximity</th>\n",
       "      <th>income_cat</th>\n",
       "    </tr>\n",
       "  </thead>\n",
       "  <tbody>\n",
       "    <tr>\n",
       "      <th>11441</th>\n",
       "      <td>-118.0</td>\n",
       "      <td>33.7</td>\n",
       "      <td>18.0</td>\n",
       "      <td>3833.0</td>\n",
       "      <td>433.0</td>\n",
       "      <td>2192.0</td>\n",
       "      <td>996.0</td>\n",
       "      <td>3.5</td>\n",
       "      <td>&lt;1H OCEAN</td>\n",
       "      <td>3</td>\n",
       "    </tr>\n",
       "    <tr>\n",
       "      <th>4767</th>\n",
       "      <td>-118.4</td>\n",
       "      <td>34.0</td>\n",
       "      <td>37.0</td>\n",
       "      <td>1236.0</td>\n",
       "      <td>433.0</td>\n",
       "      <td>966.0</td>\n",
       "      <td>292.0</td>\n",
       "      <td>3.1</td>\n",
       "      <td>&lt;1H OCEAN</td>\n",
       "      <td>3</td>\n",
       "    </tr>\n",
       "    <tr>\n",
       "      <th>19122</th>\n",
       "      <td>-122.7</td>\n",
       "      <td>38.2</td>\n",
       "      <td>23.0</td>\n",
       "      <td>4030.0</td>\n",
       "      <td>433.0</td>\n",
       "      <td>1852.0</td>\n",
       "      <td>778.0</td>\n",
       "      <td>3.4</td>\n",
       "      <td>&lt;1H OCEAN</td>\n",
       "      <td>3</td>\n",
       "    </tr>\n",
       "    <tr>\n",
       "      <th>9571</th>\n",
       "      <td>-120.6</td>\n",
       "      <td>37.4</td>\n",
       "      <td>16.0</td>\n",
       "      <td>638.0</td>\n",
       "      <td>433.0</td>\n",
       "      <td>380.0</td>\n",
       "      <td>132.0</td>\n",
       "      <td>1.9</td>\n",
       "      <td>INLAND</td>\n",
       "      <td>2</td>\n",
       "    </tr>\n",
       "    <tr>\n",
       "      <th>2578</th>\n",
       "      <td>-124.1</td>\n",
       "      <td>40.9</td>\n",
       "      <td>34.0</td>\n",
       "      <td>4183.0</td>\n",
       "      <td>433.0</td>\n",
       "      <td>1891.0</td>\n",
       "      <td>669.0</td>\n",
       "      <td>3.2</td>\n",
       "      <td>NEAR OCEAN</td>\n",
       "      <td>3</td>\n",
       "    </tr>\n",
       "  </tbody>\n",
       "</table>\n",
       "</div>"
      ],
      "text/plain": [
       "       longitude  latitude  housing_median_age  total_rooms  total_bedrooms  \\\n",
       "11441     -118.0      33.7                18.0       3833.0           433.0   \n",
       "4767      -118.4      34.0                37.0       1236.0           433.0   \n",
       "19122     -122.7      38.2                23.0       4030.0           433.0   \n",
       "9571      -120.6      37.4                16.0        638.0           433.0   \n",
       "2578      -124.1      40.9                34.0       4183.0           433.0   \n",
       "\n",
       "       population  households  median_income ocean_proximity income_cat  \n",
       "11441      2192.0       996.0            3.5       <1H OCEAN          3  \n",
       "4767        966.0       292.0            3.1       <1H OCEAN          3  \n",
       "19122      1852.0       778.0            3.4       <1H OCEAN          3  \n",
       "9571        380.0       132.0            1.9          INLAND          2  \n",
       "2578       1891.0       669.0            3.2      NEAR OCEAN          3  "
      ]
     },
     "execution_count": 72,
     "metadata": {},
     "output_type": "execute_result"
    }
   ],
   "source": [
    "sample_incomplete_rows"
   ]
  },
  {
   "cell_type": "code",
   "execution_count": 73,
   "id": "b2c1fa2f",
   "metadata": {},
   "outputs": [],
   "source": [
    "from sklearn.impute import SimpleImputer\n",
    "\n",
    "imputer = SimpleImputer(strategy ='median')\n",
    "\n"
   ]
  },
  {
   "cell_type": "code",
   "execution_count": 74,
   "id": "6544ee3c",
   "metadata": {},
   "outputs": [],
   "source": [
    "housing_num = housing.drop('ocean_proximity',axis=1)"
   ]
  },
  {
   "cell_type": "code",
   "execution_count": 76,
   "id": "b38a2cdf",
   "metadata": {},
   "outputs": [
    {
     "data": {
      "text/plain": [
       "SimpleImputer(strategy='median')"
      ]
     },
     "execution_count": 76,
     "metadata": {},
     "output_type": "execute_result"
    }
   ],
   "source": [
    "imputer.fit(housing_num)"
   ]
  },
  {
   "cell_type": "code",
   "execution_count": 77,
   "id": "00564389",
   "metadata": {},
   "outputs": [
    {
     "data": {
      "text/plain": [
       "array([-118.5   ,   34.25  ,   29.    , 2115.    ,  433.    , 1161.    ,\n",
       "        408.    ,    3.5313,    3.    ])"
      ]
     },
     "execution_count": 77,
     "metadata": {},
     "output_type": "execute_result"
    }
   ],
   "source": [
    "imputer.statistics_"
   ]
  },
  {
   "cell_type": "code",
   "execution_count": 78,
   "id": "2607978a",
   "metadata": {},
   "outputs": [
    {
     "name": "stderr",
     "output_type": "stream",
     "text": [
      "/var/folders/_q/43ytj6j945nfj87lz09bt4nr0000gn/T/ipykernel_7938/3605723347.py:1: FutureWarning: Dropping of nuisance columns in DataFrame reductions (with 'numeric_only=None') is deprecated; in a future version this will raise TypeError.  Select only valid columns before calling the reduction.\n",
      "  housing_num.median().values\n"
     ]
    },
    {
     "data": {
      "text/plain": [
       "array([-118.5   ,   34.25  ,   29.    , 2115.    ,  433.    , 1161.    ,\n",
       "        408.    ,    3.5313])"
      ]
     },
     "execution_count": 78,
     "metadata": {},
     "output_type": "execute_result"
    }
   ],
   "source": [
    "housing_num.median().values\n",
    "# 각특성의 중간값이 수동으로 계산한것과 같은지 확인"
   ]
  },
  {
   "cell_type": "code",
   "execution_count": 79,
   "id": "ef05b048",
   "metadata": {},
   "outputs": [],
   "source": [
    "X = imputer.transform(housing_num)"
   ]
  },
  {
   "cell_type": "code",
   "execution_count": 80,
   "id": "1443ff51",
   "metadata": {},
   "outputs": [],
   "source": [
    "housing_tr = pd.DataFrame(X,columns=housing_num.columns,index=housing_num.index)"
   ]
  },
  {
   "cell_type": "code",
   "execution_count": 84,
   "id": "256fd90e",
   "metadata": {},
   "outputs": [
    {
     "data": {
      "text/html": [
       "<div>\n",
       "<style scoped>\n",
       "    .dataframe tbody tr th:only-of-type {\n",
       "        vertical-align: middle;\n",
       "    }\n",
       "\n",
       "    .dataframe tbody tr th {\n",
       "        vertical-align: top;\n",
       "    }\n",
       "\n",
       "    .dataframe thead th {\n",
       "        text-align: right;\n",
       "    }\n",
       "</style>\n",
       "<table border=\"1\" class=\"dataframe\">\n",
       "  <thead>\n",
       "    <tr style=\"text-align: right;\">\n",
       "      <th></th>\n",
       "      <th>longitude</th>\n",
       "      <th>latitude</th>\n",
       "      <th>housing_median_age</th>\n",
       "      <th>total_rooms</th>\n",
       "      <th>total_bedrooms</th>\n",
       "      <th>population</th>\n",
       "      <th>households</th>\n",
       "      <th>median_income</th>\n",
       "      <th>income_cat</th>\n",
       "    </tr>\n",
       "  </thead>\n",
       "  <tbody>\n",
       "    <tr>\n",
       "      <th>11441</th>\n",
       "      <td>-118.0</td>\n",
       "      <td>33.7</td>\n",
       "      <td>18.0</td>\n",
       "      <td>3833.0</td>\n",
       "      <td>433.0</td>\n",
       "      <td>2192.0</td>\n",
       "      <td>996.0</td>\n",
       "      <td>3.5</td>\n",
       "      <td>3.0</td>\n",
       "    </tr>\n",
       "    <tr>\n",
       "      <th>4767</th>\n",
       "      <td>-118.4</td>\n",
       "      <td>34.0</td>\n",
       "      <td>37.0</td>\n",
       "      <td>1236.0</td>\n",
       "      <td>433.0</td>\n",
       "      <td>966.0</td>\n",
       "      <td>292.0</td>\n",
       "      <td>3.1</td>\n",
       "      <td>3.0</td>\n",
       "    </tr>\n",
       "    <tr>\n",
       "      <th>19122</th>\n",
       "      <td>-122.7</td>\n",
       "      <td>38.2</td>\n",
       "      <td>23.0</td>\n",
       "      <td>4030.0</td>\n",
       "      <td>433.0</td>\n",
       "      <td>1852.0</td>\n",
       "      <td>778.0</td>\n",
       "      <td>3.4</td>\n",
       "      <td>3.0</td>\n",
       "    </tr>\n",
       "    <tr>\n",
       "      <th>9571</th>\n",
       "      <td>-120.6</td>\n",
       "      <td>37.4</td>\n",
       "      <td>16.0</td>\n",
       "      <td>638.0</td>\n",
       "      <td>433.0</td>\n",
       "      <td>380.0</td>\n",
       "      <td>132.0</td>\n",
       "      <td>1.9</td>\n",
       "      <td>2.0</td>\n",
       "    </tr>\n",
       "    <tr>\n",
       "      <th>2578</th>\n",
       "      <td>-124.1</td>\n",
       "      <td>40.9</td>\n",
       "      <td>34.0</td>\n",
       "      <td>4183.0</td>\n",
       "      <td>433.0</td>\n",
       "      <td>1891.0</td>\n",
       "      <td>669.0</td>\n",
       "      <td>3.2</td>\n",
       "      <td>3.0</td>\n",
       "    </tr>\n",
       "  </tbody>\n",
       "</table>\n",
       "</div>"
      ],
      "text/plain": [
       "       longitude  latitude  housing_median_age  total_rooms  total_bedrooms  \\\n",
       "11441     -118.0      33.7                18.0       3833.0           433.0   \n",
       "4767      -118.4      34.0                37.0       1236.0           433.0   \n",
       "19122     -122.7      38.2                23.0       4030.0           433.0   \n",
       "9571      -120.6      37.4                16.0        638.0           433.0   \n",
       "2578      -124.1      40.9                34.0       4183.0           433.0   \n",
       "\n",
       "       population  households  median_income  income_cat  \n",
       "11441      2192.0       996.0            3.5         3.0  \n",
       "4767        966.0       292.0            3.1         3.0  \n",
       "19122      1852.0       778.0            3.4         3.0  \n",
       "9571        380.0       132.0            1.9         2.0  \n",
       "2578       1891.0       669.0            3.2         3.0  "
      ]
     },
     "execution_count": 84,
     "metadata": {},
     "output_type": "execute_result"
    }
   ],
   "source": [
    "housing_tr.loc[sample_incomplete_rows.index.values]"
   ]
  },
  {
   "cell_type": "code",
   "execution_count": 85,
   "id": "d0742a48",
   "metadata": {},
   "outputs": [
    {
     "data": {
      "text/plain": [
       "'median'"
      ]
     },
     "execution_count": 85,
     "metadata": {},
     "output_type": "execute_result"
    }
   ],
   "source": [
    "imputer.strategy"
   ]
  },
  {
   "cell_type": "markdown",
   "id": "4f330ccb",
   "metadata": {},
   "source": [
    "# 카테고리변수다루기"
   ]
  },
  {
   "cell_type": "code",
   "execution_count": 87,
   "id": "ea5b179a",
   "metadata": {},
   "outputs": [
    {
     "data": {
      "text/html": [
       "<div>\n",
       "<style scoped>\n",
       "    .dataframe tbody tr th:only-of-type {\n",
       "        vertical-align: middle;\n",
       "    }\n",
       "\n",
       "    .dataframe tbody tr th {\n",
       "        vertical-align: top;\n",
       "    }\n",
       "\n",
       "    .dataframe thead th {\n",
       "        text-align: right;\n",
       "    }\n",
       "</style>\n",
       "<table border=\"1\" class=\"dataframe\">\n",
       "  <thead>\n",
       "    <tr style=\"text-align: right;\">\n",
       "      <th></th>\n",
       "      <th>ocean_proximity</th>\n",
       "    </tr>\n",
       "  </thead>\n",
       "  <tbody>\n",
       "    <tr>\n",
       "      <th>15732</th>\n",
       "      <td>NEAR BAY</td>\n",
       "    </tr>\n",
       "    <tr>\n",
       "      <th>8022</th>\n",
       "      <td>&lt;1H OCEAN</td>\n",
       "    </tr>\n",
       "    <tr>\n",
       "      <th>6338</th>\n",
       "      <td>&lt;1H OCEAN</td>\n",
       "    </tr>\n",
       "    <tr>\n",
       "      <th>2528</th>\n",
       "      <td>INLAND</td>\n",
       "    </tr>\n",
       "    <tr>\n",
       "      <th>2759</th>\n",
       "      <td>INLAND</td>\n",
       "    </tr>\n",
       "    <tr>\n",
       "      <th>1045</th>\n",
       "      <td>INLAND</td>\n",
       "    </tr>\n",
       "    <tr>\n",
       "      <th>1069</th>\n",
       "      <td>INLAND</td>\n",
       "    </tr>\n",
       "    <tr>\n",
       "      <th>3600</th>\n",
       "      <td>&lt;1H OCEAN</td>\n",
       "    </tr>\n",
       "    <tr>\n",
       "      <th>12291</th>\n",
       "      <td>INLAND</td>\n",
       "    </tr>\n",
       "    <tr>\n",
       "      <th>20500</th>\n",
       "      <td>&lt;1H OCEAN</td>\n",
       "    </tr>\n",
       "  </tbody>\n",
       "</table>\n",
       "</div>"
      ],
      "text/plain": [
       "      ocean_proximity\n",
       "15732        NEAR BAY\n",
       "8022        <1H OCEAN\n",
       "6338        <1H OCEAN\n",
       "2528           INLAND\n",
       "2759           INLAND\n",
       "1045           INLAND\n",
       "1069           INLAND\n",
       "3600        <1H OCEAN\n",
       "12291          INLAND\n",
       "20500       <1H OCEAN"
      ]
     },
     "execution_count": 87,
     "metadata": {},
     "output_type": "execute_result"
    }
   ],
   "source": [
    "housing_cat = housing[['ocean_proximity']]\n",
    "housing_cat.head(10)"
   ]
  },
  {
   "cell_type": "code",
   "execution_count": 88,
   "id": "18022589",
   "metadata": {},
   "outputs": [
    {
     "data": {
      "text/plain": [
       "array([[3.],\n",
       "       [0.],\n",
       "       [0.],\n",
       "       [1.],\n",
       "       [1.]])"
      ]
     },
     "execution_count": 88,
     "metadata": {},
     "output_type": "execute_result"
    }
   ],
   "source": [
    "# 거의 안씀\n",
    "from sklearn.preprocessing import OrdinalEncoder\n",
    "\n",
    "ordinal_encoder = OrdinalEncoder()\n",
    "housing_cat_encoded = ordinal_encoder.fit_transform(housing_cat)\n",
    "housing_cat_encoded[:5]"
   ]
  },
  {
   "cell_type": "code",
   "execution_count": 89,
   "id": "8ed5777c",
   "metadata": {},
   "outputs": [
    {
     "data": {
      "text/plain": [
       "<16512x5 sparse matrix of type '<class 'numpy.float64'>'\n",
       "\twith 16512 stored elements in Compressed Sparse Row format>"
      ]
     },
     "execution_count": 89,
     "metadata": {},
     "output_type": "execute_result"
    }
   ],
   "source": [
    "from sklearn.preprocessing import OneHotEncoder\n",
    "\n",
    "cat_encoder = OneHotEncoder()\n",
    "\n",
    "housing_cat_1hot=cat_encoder.fit_transform(housing_cat)\n",
    "housing_cat_1hot"
   ]
  },
  {
   "cell_type": "code",
   "execution_count": 90,
   "id": "4ae199a6",
   "metadata": {},
   "outputs": [
    {
     "data": {
      "text/plain": [
       "array([[0., 0., 0., 1., 0.],\n",
       "       [1., 0., 0., 0., 0.],\n",
       "       [1., 0., 0., 0., 0.],\n",
       "       ...,\n",
       "       [0., 1., 0., 0., 0.],\n",
       "       [0., 0., 0., 1., 0.],\n",
       "       [0., 1., 0., 0., 0.]])"
      ]
     },
     "execution_count": 90,
     "metadata": {},
     "output_type": "execute_result"
    }
   ],
   "source": [
    "# toarray()를 통해 밀집벡터로 만들어줌\n",
    "housing_cat_1hot.toarray()\n"
   ]
  },
  {
   "cell_type": "code",
   "execution_count": 92,
   "id": "2c34f959",
   "metadata": {},
   "outputs": [
    {
     "data": {
      "text/plain": [
       "array([[0., 0., 0., 1., 0.],\n",
       "       [1., 0., 0., 0., 0.],\n",
       "       [1., 0., 0., 0., 0.],\n",
       "       ...,\n",
       "       [0., 1., 0., 0., 0.],\n",
       "       [0., 0., 0., 1., 0.],\n",
       "       [0., 1., 0., 0., 0.]])"
      ]
     },
     "execution_count": 92,
     "metadata": {},
     "output_type": "execute_result"
    }
   ],
   "source": [
    "# toarray 안쓰고 sparse = Flase 옵션으로 대신함\n",
    "\n",
    "cat_encoder = OneHotEncoder(sparse=False)\n",
    "housing_cat_1hot = cat_encoder.fit_transform(housing_cat)\n",
    "housing_cat_1hot"
   ]
  },
  {
   "cell_type": "markdown",
   "id": "d864c726",
   "metadata": {},
   "source": [
    "# 나만의 변환기 만들기"
   ]
  },
  {
   "cell_type": "code",
   "execution_count": 93,
   "id": "5aad14bc",
   "metadata": {},
   "outputs": [],
   "source": [
    "from sklearn.base import BaseEstimator, TransformerMixin\n",
    "\n",
    "# 열 인덱스\n",
    "rooms_ix, bedrooms_ix, population_ix, households_ix = 3, 4, 5, 6\n",
    "\n",
    "class CombinedAttributesAdder(BaseEstimator, TransformerMixin):\n",
    "    def __init__(self, add_bedrooms_per_room=True): # *args 또는 **kargs 없음\n",
    "        self.add_bedrooms_per_room = add_bedrooms_per_room\n",
    "    def fit(self, X, y=None):\n",
    "        return self  # 아무것도 하지 않습니다\n",
    "    def transform(self, X):\n",
    "        rooms_per_household = X[:, rooms_ix] / X[:, households_ix]\n",
    "        population_per_household = X[:, population_ix] / X[:, households_ix]\n",
    "        if self.add_bedrooms_per_room:\n",
    "            bedrooms_per_room = X[:, bedrooms_ix] / X[:, rooms_ix]\n",
    "            return np.c_[X, rooms_per_household, population_per_household,\n",
    "                         bedrooms_per_room]\n",
    "        else:\n",
    "            return np.c_[X, rooms_per_household, population_per_household]\n",
    "\n",
    "attr_adder = CombinedAttributesAdder(add_bedrooms_per_room=False)\n",
    "housing_extra_attribs = attr_adder.transform(housing.to_numpy())"
   ]
  },
  {
   "cell_type": "code",
   "execution_count": 94,
   "id": "b1d17543",
   "metadata": {},
   "outputs": [],
   "source": [
    "\n",
    "col_names = \"total_rooms\", \"total_bedrooms\", \"population\", \"households\"\n",
    "rooms_ix, bedrooms_ix, population_ix, households_ix = [\n",
    "    housing.columns.get_loc(c) for c in col_names] # 열 인덱스 구하기"
   ]
  },
  {
   "cell_type": "code",
   "execution_count": 95,
   "id": "afac3aea",
   "metadata": {},
   "outputs": [
    {
     "data": {
      "text/html": [
       "<div>\n",
       "<style scoped>\n",
       "    .dataframe tbody tr th:only-of-type {\n",
       "        vertical-align: middle;\n",
       "    }\n",
       "\n",
       "    .dataframe tbody tr th {\n",
       "        vertical-align: top;\n",
       "    }\n",
       "\n",
       "    .dataframe thead th {\n",
       "        text-align: right;\n",
       "    }\n",
       "</style>\n",
       "<table border=\"1\" class=\"dataframe\">\n",
       "  <thead>\n",
       "    <tr style=\"text-align: right;\">\n",
       "      <th></th>\n",
       "      <th>longitude</th>\n",
       "      <th>latitude</th>\n",
       "      <th>housing_median_age</th>\n",
       "      <th>total_rooms</th>\n",
       "      <th>total_bedrooms</th>\n",
       "      <th>population</th>\n",
       "      <th>households</th>\n",
       "      <th>median_income</th>\n",
       "      <th>ocean_proximity</th>\n",
       "      <th>income_cat</th>\n",
       "      <th>rooms_per_household</th>\n",
       "      <th>population_per_household</th>\n",
       "    </tr>\n",
       "  </thead>\n",
       "  <tbody>\n",
       "    <tr>\n",
       "      <th>15732</th>\n",
       "      <td>-122.4</td>\n",
       "      <td>37.8</td>\n",
       "      <td>52.0</td>\n",
       "      <td>2747.0</td>\n",
       "      <td>736.0</td>\n",
       "      <td>1309.0</td>\n",
       "      <td>653.0</td>\n",
       "      <td>2.9</td>\n",
       "      <td>NEAR BAY</td>\n",
       "      <td>2</td>\n",
       "      <td>4.2</td>\n",
       "      <td>2.0</td>\n",
       "    </tr>\n",
       "    <tr>\n",
       "      <th>8022</th>\n",
       "      <td>-118.1</td>\n",
       "      <td>33.8</td>\n",
       "      <td>37.0</td>\n",
       "      <td>2143.0</td>\n",
       "      <td>382.0</td>\n",
       "      <td>1047.0</td>\n",
       "      <td>377.0</td>\n",
       "      <td>4.4</td>\n",
       "      <td>&lt;1H OCEAN</td>\n",
       "      <td>3</td>\n",
       "      <td>5.7</td>\n",
       "      <td>2.8</td>\n",
       "    </tr>\n",
       "    <tr>\n",
       "      <th>6338</th>\n",
       "      <td>-117.9</td>\n",
       "      <td>34.0</td>\n",
       "      <td>16.0</td>\n",
       "      <td>19059.0</td>\n",
       "      <td>3079.0</td>\n",
       "      <td>10988.0</td>\n",
       "      <td>3061.0</td>\n",
       "      <td>5.5</td>\n",
       "      <td>&lt;1H OCEAN</td>\n",
       "      <td>4</td>\n",
       "      <td>6.2</td>\n",
       "      <td>3.6</td>\n",
       "    </tr>\n",
       "    <tr>\n",
       "      <th>2528</th>\n",
       "      <td>-122.2</td>\n",
       "      <td>39.5</td>\n",
       "      <td>8.0</td>\n",
       "      <td>1268.0</td>\n",
       "      <td>336.0</td>\n",
       "      <td>1237.0</td>\n",
       "      <td>326.0</td>\n",
       "      <td>1.4</td>\n",
       "      <td>INLAND</td>\n",
       "      <td>1</td>\n",
       "      <td>3.9</td>\n",
       "      <td>3.8</td>\n",
       "    </tr>\n",
       "    <tr>\n",
       "      <th>2759</th>\n",
       "      <td>-115.5</td>\n",
       "      <td>32.7</td>\n",
       "      <td>11.0</td>\n",
       "      <td>2872.0</td>\n",
       "      <td>610.0</td>\n",
       "      <td>2644.0</td>\n",
       "      <td>581.0</td>\n",
       "      <td>2.6</td>\n",
       "      <td>INLAND</td>\n",
       "      <td>2</td>\n",
       "      <td>4.9</td>\n",
       "      <td>4.6</td>\n",
       "    </tr>\n",
       "  </tbody>\n",
       "</table>\n",
       "</div>"
      ],
      "text/plain": [
       "      longitude latitude housing_median_age total_rooms total_bedrooms  \\\n",
       "15732    -122.4     37.8               52.0      2747.0          736.0   \n",
       "8022     -118.1     33.8               37.0      2143.0          382.0   \n",
       "6338     -117.9     34.0               16.0     19059.0         3079.0   \n",
       "2528     -122.2     39.5                8.0      1268.0          336.0   \n",
       "2759     -115.5     32.7               11.0      2872.0          610.0   \n",
       "\n",
       "      population households median_income ocean_proximity income_cat  \\\n",
       "15732     1309.0      653.0           2.9        NEAR BAY          2   \n",
       "8022      1047.0      377.0           4.4       <1H OCEAN          3   \n",
       "6338     10988.0     3061.0           5.5       <1H OCEAN          4   \n",
       "2528      1237.0      326.0           1.4          INLAND          1   \n",
       "2759      2644.0      581.0           2.6          INLAND          2   \n",
       "\n",
       "      rooms_per_household population_per_household  \n",
       "15732                 4.2                      2.0  \n",
       "8022                  5.7                      2.8  \n",
       "6338                  6.2                      3.6  \n",
       "2528                  3.9                      3.8  \n",
       "2759                  4.9                      4.6  "
      ]
     },
     "execution_count": 95,
     "metadata": {},
     "output_type": "execute_result"
    }
   ],
   "source": [
    "housing_extra_attribs = pd.DataFrame(\n",
    "    housing_extra_attribs,\n",
    "    columns=list(housing.columns)+[\"rooms_per_household\", \"population_per_household\"],\n",
    "    index=housing.index)\n",
    "housing_extra_attribs.head()"
   ]
  },
  {
   "cell_type": "code",
   "execution_count": 96,
   "id": "c2934dee",
   "metadata": {},
   "outputs": [],
   "source": [
    "from sklearn.pipeline import Pipeline\n",
    "from sklearn.preprocessing import StandardScaler\n",
    "\n",
    "num_pipeline = Pipeline([\n",
    "        ('imputer', SimpleImputer(strategy=\"median\")),\n",
    "        ('attribs_adder', CombinedAttributesAdder()),\n",
    "        ('std_scaler', StandardScaler()),\n",
    "    ])\n",
    "\n",
    "housing_num_tr = num_pipeline.fit_transform(housing_num)"
   ]
  },
  {
   "cell_type": "code",
   "execution_count": 98,
   "id": "4f97e45c",
   "metadata": {},
   "outputs": [
    {
     "data": {
      "text/plain": [
       "array([[-1.42979595,  1.00287516,  1.85255697, ..., -0.47723638,\n",
       "        -0.09458317,  0.82431276],\n",
       "       [ 0.72349901, -0.83962186,  0.65905325, ...,  0.09358332,\n",
       "        -0.0271927 , -0.53957477],\n",
       "       [ 0.84312651, -0.78350519, -1.01185195, ...,  0.30298255,\n",
       "         0.04367758, -0.79363004],\n",
       "       ...,\n",
       "       [-1.23041679,  1.22266542,  1.85255697, ...,  0.01872214,\n",
       "        -0.07112013,  0.17269953],\n",
       "       [-1.22543231,  1.08237376, -1.17098578, ..., -0.32887546,\n",
       "        -0.07439559,  0.41859802],\n",
       "       [ 0.24498902, -0.14751638, -1.64838726, ...,  0.03322013,\n",
       "        -0.03284561, -0.44571602]])"
      ]
     },
     "execution_count": 98,
     "metadata": {},
     "output_type": "execute_result"
    }
   ],
   "source": [
    "housing_num_tr"
   ]
  },
  {
   "cell_type": "code",
   "execution_count": 99,
   "id": "6e1b2c99",
   "metadata": {},
   "outputs": [],
   "source": [
    "from sklearn.compose import ColumnTransformer\n",
    "\n",
    "num_attribs = list(housing_num)\n",
    "cat_attribs = [\"ocean_proximity\"]\n",
    "\n",
    "full_pipeline = ColumnTransformer([\n",
    "        (\"num\", num_pipeline, num_attribs),\n",
    "        (\"cat\", OneHotEncoder(), cat_attribs),\n",
    "    ])\n",
    "\n",
    "housing_prepared = full_pipeline.fit_transform(housing)"
   ]
  },
  {
   "cell_type": "code",
   "execution_count": 100,
   "id": "e648ec4c",
   "metadata": {},
   "outputs": [
    {
     "data": {
      "text/plain": [
       "array([[-1.42979595,  1.00287516,  1.85255697, ...,  0.        ,\n",
       "         1.        ,  0.        ],\n",
       "       [ 0.72349901, -0.83962186,  0.65905325, ...,  0.        ,\n",
       "         0.        ,  0.        ],\n",
       "       [ 0.84312651, -0.78350519, -1.01185195, ...,  0.        ,\n",
       "         0.        ,  0.        ],\n",
       "       ...,\n",
       "       [-1.23041679,  1.22266542,  1.85255697, ...,  0.        ,\n",
       "         0.        ,  0.        ],\n",
       "       [-1.22543231,  1.08237376, -1.17098578, ...,  0.        ,\n",
       "         1.        ,  0.        ],\n",
       "       [ 0.24498902, -0.14751638, -1.64838726, ...,  0.        ,\n",
       "         0.        ,  0.        ]])"
      ]
     },
     "execution_count": 100,
     "metadata": {},
     "output_type": "execute_result"
    }
   ],
   "source": [
    "housing_prepared"
   ]
  },
  {
   "cell_type": "code",
   "execution_count": 101,
   "id": "0f2beff1",
   "metadata": {},
   "outputs": [
    {
     "data": {
      "text/plain": [
       "(16512, 17)"
      ]
     },
     "execution_count": 101,
     "metadata": {},
     "output_type": "execute_result"
    }
   ],
   "source": [
    "housing_prepared.shape"
   ]
  },
  {
   "cell_type": "code",
   "execution_count": 102,
   "id": "6b0d3960",
   "metadata": {},
   "outputs": [],
   "source": [
    "from sklearn.base import BaseEstimator, TransformerMixin\n",
    "\n",
    "# 수치형 열과 범주형 열을 선택하기 위한 클래스\n",
    "class OldDataFrameSelector(BaseEstimator, TransformerMixin):\n",
    "    def __init__(self, attribute_names):\n",
    "        self.attribute_names = attribute_names\n",
    "    def fit(self, X, y=None):\n",
    "        return self\n",
    "    def transform(self, X):\n",
    "        return X[self.attribute_names].values\n"
   ]
  },
  {
   "cell_type": "code",
   "execution_count": 103,
   "id": "b8b4c553",
   "metadata": {},
   "outputs": [],
   "source": [
    "num_attribs = list(housing_num)\n",
    "cat_attribs = [\"ocean_proximity\"]\n",
    "\n",
    "old_num_pipeline = Pipeline([\n",
    "        ('selector', OldDataFrameSelector(num_attribs)),\n",
    "        ('imputer', SimpleImputer(strategy=\"median\")),\n",
    "        ('attribs_adder', CombinedAttributesAdder()),\n",
    "        ('std_scaler', StandardScaler()),\n",
    "    ])\n",
    "\n",
    "old_cat_pipeline = Pipeline([\n",
    "        ('selector', OldDataFrameSelector(cat_attribs)),\n",
    "        ('cat_encoder', OneHotEncoder(sparse=False)),\n",
    "    ])"
   ]
  },
  {
   "cell_type": "code",
   "execution_count": 104,
   "id": "bd058319",
   "metadata": {},
   "outputs": [],
   "source": [
    "from sklearn.pipeline import FeatureUnion\n",
    "\n",
    "old_full_pipeline = FeatureUnion(transformer_list=[\n",
    "        (\"num_pipeline\", old_num_pipeline),\n",
    "        (\"cat_pipeline\", old_cat_pipeline),\n",
    "    ])"
   ]
  },
  {
   "cell_type": "code",
   "execution_count": 105,
   "id": "e3413987",
   "metadata": {},
   "outputs": [
    {
     "data": {
      "text/plain": [
       "array([[-1.42979595,  1.00287516,  1.85255697, ...,  0.        ,\n",
       "         1.        ,  0.        ],\n",
       "       [ 0.72349901, -0.83962186,  0.65905325, ...,  0.        ,\n",
       "         0.        ,  0.        ],\n",
       "       [ 0.84312651, -0.78350519, -1.01185195, ...,  0.        ,\n",
       "         0.        ,  0.        ],\n",
       "       ...,\n",
       "       [-1.23041679,  1.22266542,  1.85255697, ...,  0.        ,\n",
       "         0.        ,  0.        ],\n",
       "       [-1.22543231,  1.08237376, -1.17098578, ...,  0.        ,\n",
       "         1.        ,  0.        ],\n",
       "       [ 0.24498902, -0.14751638, -1.64838726, ...,  0.        ,\n",
       "         0.        ,  0.        ]])"
      ]
     },
     "execution_count": 105,
     "metadata": {},
     "output_type": "execute_result"
    }
   ],
   "source": [
    "old_housing_prepared = old_full_pipeline.fit_transform(housing)\n",
    "old_housing_prepared"
   ]
  },
  {
   "cell_type": "code",
   "execution_count": 106,
   "id": "35511e65",
   "metadata": {},
   "outputs": [
    {
     "data": {
      "text/plain": [
       "True"
      ]
     },
     "execution_count": 106,
     "metadata": {},
     "output_type": "execute_result"
    }
   ],
   "source": [
    "np.allclose(housing_prepared, old_housing_prepared)"
   ]
  },
  {
   "cell_type": "code",
   "execution_count": 108,
   "id": "1f6fd06a",
   "metadata": {},
   "outputs": [
    {
     "data": {
      "text/plain": [
       "LinearRegression()"
      ]
     },
     "execution_count": 108,
     "metadata": {},
     "output_type": "execute_result"
    }
   ],
   "source": [
    "from sklearn.linear_model import LinearRegression\n",
    "\n",
    "lin_reg = LinearRegression()\n",
    "lin_reg.fit(housing_prepared,housing_labels)"
   ]
  },
  {
   "cell_type": "code",
   "execution_count": 109,
   "id": "d59ecdfb",
   "metadata": {},
   "outputs": [
    {
     "name": "stdout",
     "output_type": "stream",
     "text": [
      "예측값:  [252669.55149011 247268.89624624 192068.13536258   9072.56531554\n",
      "  30645.97175532]\n"
     ]
    }
   ],
   "source": [
    "some_data = housing.iloc[:5]\n",
    "some_labels = housing_labels.iloc[:5]\n",
    "some_data_prepared = full_pipeline.transform(some_data)\n",
    "\n",
    "print(\"예측값: \",lin_reg.predict(some_data_prepared))"
   ]
  },
  {
   "cell_type": "code",
   "execution_count": 110,
   "id": "09e442ac",
   "metadata": {},
   "outputs": [
    {
     "name": "stdout",
     "output_type": "stream",
     "text": [
      "레이블:  [341700.0, 216000.0, 265200.0, 125000.0, 72700.0]\n"
     ]
    }
   ],
   "source": [
    "print(\"레이블: \",list(some_labels))"
   ]
  },
  {
   "cell_type": "code",
   "execution_count": 111,
   "id": "db6af85e",
   "metadata": {},
   "outputs": [
    {
     "data": {
      "text/plain": [
       "array([[-1.42979595e+00,  1.00287516e+00,  1.85255697e+00,\n",
       "         5.38143117e-02,  4.80130248e-01, -1.00266279e-01,\n",
       "         4.07585777e-01, -4.87766274e-01, -9.54687050e-01,\n",
       "        -4.77236379e-01, -9.45831727e-02,  8.24312755e-01,\n",
       "         0.00000000e+00,  0.00000000e+00,  0.00000000e+00,\n",
       "         1.00000000e+00,  0.00000000e+00],\n",
       "       [ 7.23499009e-01, -8.39621855e-01,  6.59053252e-01,\n",
       "        -2.22753139e-01, -3.66571310e-01, -3.36091148e-01,\n",
       "        -3.17669792e-01,  3.02255004e-01, -6.43196280e-03,\n",
       "         9.35833226e-02, -2.71927036e-02, -5.39574773e-01,\n",
       "         1.00000000e+00,  0.00000000e+00,  0.00000000e+00,\n",
       "         0.00000000e+00,  0.00000000e+00],\n",
       "       [ 8.43126507e-01, -7.83505195e-01, -1.01185195e+00,\n",
       "         7.52296705e+00,  6.08414650e+00,  8.61175245e+00,\n",
       "         6.73517783e+00,  8.84298293e-01,  9.41823124e-01,\n",
       "         3.02982545e-01,  4.36775770e-02, -7.93630037e-01,\n",
       "         1.00000000e+00,  0.00000000e+00,  0.00000000e+00,\n",
       "         0.00000000e+00,  0.00000000e+00],\n",
       "       [-1.32512189e+00,  1.82124313e+00, -1.64838726e+00,\n",
       "        -6.23409628e-01, -4.76594677e-01, -1.65073113e-01,\n",
       "        -4.51684407e-01, -1.31620051e+00, -1.90294214e+00,\n",
       "        -5.99762119e-01,  6.15416776e-02,  7.79529798e-01,\n",
       "         0.00000000e+00,  1.00000000e+00,  0.00000000e+00,\n",
       "         0.00000000e+00,  0.00000000e+00],\n",
       "       [ 2.02444805e+00, -1.38208291e+00, -1.40968652e+00,\n",
       "         1.11050953e-01,  1.78761897e-01,  1.10136044e+00,\n",
       "         2.18388672e-01, -6.55328981e-01, -9.54687050e-01,\n",
       "        -1.92731563e-01,  1.27510521e-01, -2.03136010e-02,\n",
       "         0.00000000e+00,  1.00000000e+00,  0.00000000e+00,\n",
       "         0.00000000e+00,  0.00000000e+00]])"
      ]
     },
     "execution_count": 111,
     "metadata": {},
     "output_type": "execute_result"
    }
   ],
   "source": [
    "some_data_prepared"
   ]
  },
  {
   "cell_type": "code",
   "execution_count": 113,
   "id": "1a9618bd",
   "metadata": {},
   "outputs": [
    {
     "data": {
      "text/plain": [
       "67330.49844659421"
      ]
     },
     "execution_count": 113,
     "metadata": {},
     "output_type": "execute_result"
    }
   ],
   "source": [
    "from sklearn.metrics import mean_squared_error\n",
    "\n",
    "housing_predictions = lin_reg.predict(housing_prepared)\n",
    "lin_mse = mean_squared_error(housing_labels,housing_predictions)\n",
    "lin_rmse = np.sqrt(lin_mse)\n",
    "lin_rmse"
   ]
  },
  {
   "cell_type": "code",
   "execution_count": 114,
   "id": "b79f6594",
   "metadata": {},
   "outputs": [
    {
     "data": {
      "text/plain": [
       "49044.55398161198"
      ]
     },
     "execution_count": 114,
     "metadata": {},
     "output_type": "execute_result"
    }
   ],
   "source": [
    "from sklearn.metrics import mean_absolute_error\n",
    "\n",
    "lin_mae = mean_absolute_error(housing_labels,housing_predictions)\n",
    "lin_mae"
   ]
  },
  {
   "cell_type": "code",
   "execution_count": 115,
   "id": "25c88bab",
   "metadata": {},
   "outputs": [
    {
     "data": {
      "text/plain": [
       "DecisionTreeRegressor(random_state=98)"
      ]
     },
     "execution_count": 115,
     "metadata": {},
     "output_type": "execute_result"
    }
   ],
   "source": [
    "from sklearn.tree import DecisionTreeRegressor\n",
    "\n",
    "tree_reg = DecisionTreeRegressor(random_state=98)\n",
    "tree_reg.fit(housing_prepared,housing_labels)"
   ]
  },
  {
   "cell_type": "code",
   "execution_count": 116,
   "id": "c1d0c71e",
   "metadata": {},
   "outputs": [
    {
     "data": {
      "text/plain": [
       "0.0"
      ]
     },
     "execution_count": 116,
     "metadata": {},
     "output_type": "execute_result"
    }
   ],
   "source": [
    "housing_predictions = tree_reg.predict(housing_prepared)\n",
    "tree_mse = mean_squared_error(housing_labels, housing_predictions)\n",
    "tree_rmse = np.sqrt(tree_mse)\n",
    "tree_rmse"
   ]
  },
  {
   "cell_type": "code",
   "execution_count": 117,
   "id": "875e80c8",
   "metadata": {},
   "outputs": [],
   "source": [
    "from sklearn.model_selection import cross_val_score\n",
    "\n",
    "scores = cross_val_score(tree_reg, housing_prepared, housing_labels,\n",
    "                         scoring=\"neg_mean_squared_error\", cv=10)\n",
    "tree_rmse_scores = np.sqrt(-scores)"
   ]
  },
  {
   "cell_type": "code",
   "execution_count": 118,
   "id": "b71fb139",
   "metadata": {},
   "outputs": [
    {
     "name": "stdout",
     "output_type": "stream",
     "text": [
      "점수: [68447.34702184 71455.31946236 68230.54084747 69768.95898316\n",
      " 65721.63176463 70811.75512666 72655.81687673 65927.87850878\n",
      " 68162.23167061 70036.03039436]\n",
      "평균: 69121.75106566053\n",
      "표준 편차: 2144.2352537050283\n"
     ]
    }
   ],
   "source": [
    "def display_scores(scores):\n",
    "    print(\"점수:\", scores)\n",
    "    print(\"평균:\", scores.mean())\n",
    "    print(\"표준 편차:\", scores.std())\n",
    "\n",
    "display_scores(tree_rmse_scores)"
   ]
  },
  {
   "cell_type": "code",
   "execution_count": 119,
   "id": "7e6c1c39",
   "metadata": {},
   "outputs": [
    {
     "name": "stdout",
     "output_type": "stream",
     "text": [
      "점수: [69237.48031155 67157.73409171 65986.7433924  69371.31350464\n",
      " 63706.53457187 68333.87642714 68549.96758428 65282.07848136\n",
      " 68157.17734609 71063.42478141]\n",
      "평균: 67684.63304924469\n",
      "표준 편차: 2069.3976376568557\n"
     ]
    }
   ],
   "source": [
    "lin_scores = cross_val_score(lin_reg, housing_prepared, housing_labels,\n",
    "                             scoring=\"neg_mean_squared_error\", cv=10)\n",
    "lin_rmse_scores = np.sqrt(-lin_scores)\n",
    "display_scores(lin_rmse_scores)"
   ]
  },
  {
   "cell_type": "code",
   "execution_count": 121,
   "id": "c7721791",
   "metadata": {},
   "outputs": [
    {
     "data": {
      "text/plain": [
       "RandomForestRegressor(random_state=98)"
      ]
     },
     "execution_count": 121,
     "metadata": {},
     "output_type": "execute_result"
    }
   ],
   "source": [
    "from sklearn.ensemble import RandomForestRegressor\n",
    "\n",
    "forest_reg = RandomForestRegressor(n_estimators=100, random_state=98)\n",
    "forest_reg.fit(housing_prepared, housing_labels)"
   ]
  },
  {
   "cell_type": "code",
   "execution_count": 122,
   "id": "96f1c49a",
   "metadata": {},
   "outputs": [
    {
     "data": {
      "text/plain": [
       "18530.376625151384"
      ]
     },
     "execution_count": 122,
     "metadata": {},
     "output_type": "execute_result"
    }
   ],
   "source": [
    "housing_predictions = forest_reg.predict(housing_prepared)\n",
    "forest_mse = mean_squared_error(housing_labels, housing_predictions)\n",
    "forest_rmse = np.sqrt(forest_mse)\n",
    "forest_rmse"
   ]
  },
  {
   "cell_type": "code",
   "execution_count": 123,
   "id": "06eaebfd",
   "metadata": {},
   "outputs": [
    {
     "name": "stdout",
     "output_type": "stream",
     "text": [
      "점수: [50264.74050382 50766.83930203 47309.81764564 51398.06843339\n",
      " 46406.76444456 48780.32305932 51121.33000782 46692.59183237\n",
      " 48568.35425155 51075.488994  ]\n",
      "평균: 49238.4318474498\n",
      "표준 편차: 1839.8781339899224\n"
     ]
    }
   ],
   "source": [
    "from sklearn.model_selection import cross_val_score\n",
    "\n",
    "forest_scores = cross_val_score(forest_reg, housing_prepared, housing_labels,\n",
    "                                scoring=\"neg_mean_squared_error\", cv=10)\n",
    "forest_rmse_scores = np.sqrt(-forest_scores)\n",
    "display_scores(forest_rmse_scores)"
   ]
  },
  {
   "cell_type": "code",
   "execution_count": 124,
   "id": "98ff4d37",
   "metadata": {},
   "outputs": [
    {
     "data": {
      "text/plain": [
       "count      10.0\n",
       "mean    67684.6\n",
       "std      2181.3\n",
       "min     63706.5\n",
       "25%     66279.5\n",
       "50%     68245.5\n",
       "75%     69065.6\n",
       "max     71063.4\n",
       "dtype: float64"
      ]
     },
     "execution_count": 124,
     "metadata": {},
     "output_type": "execute_result"
    }
   ],
   "source": [
    "scores = cross_val_score(lin_reg, housing_prepared, housing_labels, scoring=\"neg_mean_squared_error\", cv=10)\n",
    "pd.Series(np.sqrt(-scores)).describe()"
   ]
  },
  {
   "cell_type": "code",
   "execution_count": null,
   "id": "75a60af6",
   "metadata": {},
   "outputs": [],
   "source": []
  },
  {
   "cell_type": "code",
   "execution_count": 125,
   "id": "2a371ad0",
   "metadata": {},
   "outputs": [
    {
     "data": {
      "text/plain": [
       "106246.54651473487"
      ]
     },
     "execution_count": 125,
     "metadata": {},
     "output_type": "execute_result"
    }
   ],
   "source": [
    "from sklearn.svm import SVR\n",
    "\n",
    "svm_reg = SVR(kernel=\"linear\")\n",
    "svm_reg.fit(housing_prepared, housing_labels)\n",
    "housing_predictions = svm_reg.predict(housing_prepared)\n",
    "svm_mse = mean_squared_error(housing_labels, housing_predictions)\n",
    "svm_rmse = np.sqrt(svm_mse)\n",
    "svm_rmse"
   ]
  },
  {
   "cell_type": "code",
   "execution_count": 128,
   "id": "5a3e4eae",
   "metadata": {},
   "outputs": [
    {
     "data": {
      "text/plain": [
       "GridSearchCV(cv=5, estimator=RandomForestRegressor(random_state=42),\n",
       "             param_grid=[{'max_features': [2, 4, 6, 8],\n",
       "                          'n_estimators': [3, 10, 30]},\n",
       "                         {'bootstrap': [False], 'max_features': [2, 3, 4],\n",
       "                          'n_estimators': [3, 10]}],\n",
       "             return_train_score=True, scoring='neg_mean_squared_error')"
      ]
     },
     "execution_count": 128,
     "metadata": {},
     "output_type": "execute_result"
    }
   ],
   "source": [
    "from sklearn.model_selection import GridSearchCV\n",
    "\n",
    "param_grid = [\n",
    "    # 12(=3×4)개의 하이퍼파라미터 조합을 시도합니다.\n",
    "    {'n_estimators': [3, 10, 30], 'max_features': [2, 4, 6, 8]},\n",
    "    # bootstrap은 False로 하고 6(=2×3)개의 조합을 시도합니다.\n",
    "    {'bootstrap': [False], 'n_estimators': [3, 10], 'max_features': [2, 3, 4]},\n",
    "  ]\n",
    "\n",
    "forest_reg = RandomForestRegressor(random_state=42)\n",
    "# 다섯 개의 폴드로 훈련하면 총 (12+6)*5=90번의 훈련이 일어납니다.\n",
    "grid_search = GridSearchCV(forest_reg, param_grid, cv=5,\n",
    "                           scoring='neg_mean_squared_error',\n",
    "                           return_train_score=True)\n",
    "grid_search.fit(housing_prepared, housing_labels)"
   ]
  },
  {
   "cell_type": "code",
   "execution_count": 129,
   "id": "641cff95",
   "metadata": {},
   "outputs": [
    {
     "data": {
      "text/plain": [
       "{'max_features': 8, 'n_estimators': 30}"
      ]
     },
     "execution_count": 129,
     "metadata": {},
     "output_type": "execute_result"
    }
   ],
   "source": [
    "# 최상의 파라미터 조합 \n",
    "\n",
    "grid_search.best_params_"
   ]
  },
  {
   "cell_type": "code",
   "execution_count": 130,
   "id": "4e28ddb6",
   "metadata": {},
   "outputs": [
    {
     "data": {
      "text/plain": [
       "RandomForestRegressor(max_features=8, n_estimators=30, random_state=42)"
      ]
     },
     "execution_count": 130,
     "metadata": {},
     "output_type": "execute_result"
    }
   ],
   "source": [
    "grid_search.best_estimator_"
   ]
  },
  {
   "cell_type": "code",
   "execution_count": 131,
   "id": "ad9bdd93",
   "metadata": {},
   "outputs": [
    {
     "name": "stdout",
     "output_type": "stream",
     "text": [
      "62878.998513497645 {'max_features': 2, 'n_estimators': 3}\n",
      "54771.993653487116 {'max_features': 2, 'n_estimators': 10}\n",
      "52249.829238974366 {'max_features': 2, 'n_estimators': 30}\n",
      "60293.19627621978 {'max_features': 4, 'n_estimators': 3}\n",
      "53180.340220737155 {'max_features': 4, 'n_estimators': 10}\n",
      "50450.36768959515 {'max_features': 4, 'n_estimators': 30}\n",
      "58227.54946078809 {'max_features': 6, 'n_estimators': 3}\n",
      "52172.42862466386 {'max_features': 6, 'n_estimators': 10}\n",
      "50199.31218570132 {'max_features': 6, 'n_estimators': 30}\n",
      "59365.688172102266 {'max_features': 8, 'n_estimators': 3}\n",
      "52530.51371855815 {'max_features': 8, 'n_estimators': 10}\n",
      "50020.900898288004 {'max_features': 8, 'n_estimators': 30}\n",
      "61961.02389164129 {'bootstrap': False, 'max_features': 2, 'n_estimators': 3}\n",
      "53257.08318549309 {'bootstrap': False, 'max_features': 2, 'n_estimators': 10}\n",
      "60084.44932017761 {'bootstrap': False, 'max_features': 3, 'n_estimators': 3}\n",
      "51644.5647991565 {'bootstrap': False, 'max_features': 3, 'n_estimators': 10}\n",
      "58333.288930182294 {'bootstrap': False, 'max_features': 4, 'n_estimators': 3}\n",
      "52026.027737119526 {'bootstrap': False, 'max_features': 4, 'n_estimators': 10}\n"
     ]
    }
   ],
   "source": [
    "cvres = grid_search.cv_results_\n",
    "for mean_score, params in zip(cvres[\"mean_test_score\"], cvres[\"params\"]):\n",
    "    print(np.sqrt(-mean_score), params)"
   ]
  },
  {
   "cell_type": "code",
   "execution_count": 132,
   "id": "416270f1",
   "metadata": {},
   "outputs": [
    {
     "data": {
      "text/html": [
       "<div>\n",
       "<style scoped>\n",
       "    .dataframe tbody tr th:only-of-type {\n",
       "        vertical-align: middle;\n",
       "    }\n",
       "\n",
       "    .dataframe tbody tr th {\n",
       "        vertical-align: top;\n",
       "    }\n",
       "\n",
       "    .dataframe thead th {\n",
       "        text-align: right;\n",
       "    }\n",
       "</style>\n",
       "<table border=\"1\" class=\"dataframe\">\n",
       "  <thead>\n",
       "    <tr style=\"text-align: right;\">\n",
       "      <th></th>\n",
       "      <th>mean_fit_time</th>\n",
       "      <th>std_fit_time</th>\n",
       "      <th>mean_score_time</th>\n",
       "      <th>std_score_time</th>\n",
       "      <th>param_max_features</th>\n",
       "      <th>param_n_estimators</th>\n",
       "      <th>param_bootstrap</th>\n",
       "      <th>params</th>\n",
       "      <th>split0_test_score</th>\n",
       "      <th>split1_test_score</th>\n",
       "      <th>...</th>\n",
       "      <th>mean_test_score</th>\n",
       "      <th>std_test_score</th>\n",
       "      <th>rank_test_score</th>\n",
       "      <th>split0_train_score</th>\n",
       "      <th>split1_train_score</th>\n",
       "      <th>split2_train_score</th>\n",
       "      <th>split3_train_score</th>\n",
       "      <th>split4_train_score</th>\n",
       "      <th>mean_train_score</th>\n",
       "      <th>std_train_score</th>\n",
       "    </tr>\n",
       "  </thead>\n",
       "  <tbody>\n",
       "    <tr>\n",
       "      <th>0</th>\n",
       "      <td>0.1</td>\n",
       "      <td>0.0</td>\n",
       "      <td>0.0</td>\n",
       "      <td>0.0</td>\n",
       "      <td>2</td>\n",
       "      <td>3</td>\n",
       "      <td>NaN</td>\n",
       "      <td>{'max_features': 2, 'n_estimators': 3}</td>\n",
       "      <td>-4205978294.2</td>\n",
       "      <td>-3849202917.3</td>\n",
       "      <td>...</td>\n",
       "      <td>-3953768454.1</td>\n",
       "      <td>178367700.2</td>\n",
       "      <td>18</td>\n",
       "      <td>-971423364.2</td>\n",
       "      <td>-997095935.8</td>\n",
       "      <td>-1024987390.2</td>\n",
       "      <td>-1069508694.3</td>\n",
       "      <td>-1030352499.0</td>\n",
       "      <td>-1018673576.7</td>\n",
       "      <td>33041331.1</td>\n",
       "    </tr>\n",
       "    <tr>\n",
       "      <th>1</th>\n",
       "      <td>0.1</td>\n",
       "      <td>0.0</td>\n",
       "      <td>0.0</td>\n",
       "      <td>0.0</td>\n",
       "      <td>2</td>\n",
       "      <td>10</td>\n",
       "      <td>NaN</td>\n",
       "      <td>{'max_features': 2, 'n_estimators': 10}</td>\n",
       "      <td>-3024896914.0</td>\n",
       "      <td>-2992711998.6</td>\n",
       "      <td>...</td>\n",
       "      <td>-2999971288.8</td>\n",
       "      <td>97255821.4</td>\n",
       "      <td>11</td>\n",
       "      <td>-530317473.4</td>\n",
       "      <td>-554157553.7</td>\n",
       "      <td>-565106842.0</td>\n",
       "      <td>-566774391.0</td>\n",
       "      <td>-556163738.9</td>\n",
       "      <td>-554503999.8</td>\n",
       "      <td>13044888.5</td>\n",
       "    </tr>\n",
       "    <tr>\n",
       "      <th>2</th>\n",
       "      <td>0.4</td>\n",
       "      <td>0.0</td>\n",
       "      <td>0.0</td>\n",
       "      <td>0.0</td>\n",
       "      <td>2</td>\n",
       "      <td>30</td>\n",
       "      <td>NaN</td>\n",
       "      <td>{'max_features': 2, 'n_estimators': 30}</td>\n",
       "      <td>-2803405516.2</td>\n",
       "      <td>-2772253711.5</td>\n",
       "      <td>...</td>\n",
       "      <td>-2730044655.5</td>\n",
       "      <td>105301345.7</td>\n",
       "      <td>7</td>\n",
       "      <td>-404312786.9</td>\n",
       "      <td>-423703318.9</td>\n",
       "      <td>-426677971.6</td>\n",
       "      <td>-424541096.2</td>\n",
       "      <td>-413338850.3</td>\n",
       "      <td>-418514804.8</td>\n",
       "      <td>8465955.1</td>\n",
       "    </tr>\n",
       "    <tr>\n",
       "      <th>3</th>\n",
       "      <td>0.1</td>\n",
       "      <td>0.0</td>\n",
       "      <td>0.0</td>\n",
       "      <td>0.0</td>\n",
       "      <td>4</td>\n",
       "      <td>3</td>\n",
       "      <td>NaN</td>\n",
       "      <td>{'max_features': 4, 'n_estimators': 3}</td>\n",
       "      <td>-3689646485.1</td>\n",
       "      <td>-3645596146.2</td>\n",
       "      <td>...</td>\n",
       "      <td>-3635269517.2</td>\n",
       "      <td>122230372.2</td>\n",
       "      <td>16</td>\n",
       "      <td>-937649922.1</td>\n",
       "      <td>-1007513444.0</td>\n",
       "      <td>-917396719.1</td>\n",
       "      <td>-952053808.3</td>\n",
       "      <td>-959845592.7</td>\n",
       "      <td>-954891897.3</td>\n",
       "      <td>30015979.5</td>\n",
       "    </tr>\n",
       "    <tr>\n",
       "      <th>4</th>\n",
       "      <td>0.2</td>\n",
       "      <td>0.0</td>\n",
       "      <td>0.0</td>\n",
       "      <td>0.0</td>\n",
       "      <td>4</td>\n",
       "      <td>10</td>\n",
       "      <td>NaN</td>\n",
       "      <td>{'max_features': 4, 'n_estimators': 10}</td>\n",
       "      <td>-2965425307.6</td>\n",
       "      <td>-2766482632.1</td>\n",
       "      <td>...</td>\n",
       "      <td>-2828148586.0</td>\n",
       "      <td>113831283.7</td>\n",
       "      <td>9</td>\n",
       "      <td>-517950763.9</td>\n",
       "      <td>-523135174.6</td>\n",
       "      <td>-527795433.8</td>\n",
       "      <td>-520846574.1</td>\n",
       "      <td>-515634375.3</td>\n",
       "      <td>-521072464.3</td>\n",
       "      <td>4214782.2</td>\n",
       "    </tr>\n",
       "    <tr>\n",
       "      <th>5</th>\n",
       "      <td>0.7</td>\n",
       "      <td>0.0</td>\n",
       "      <td>0.0</td>\n",
       "      <td>0.0</td>\n",
       "      <td>4</td>\n",
       "      <td>30</td>\n",
       "      <td>NaN</td>\n",
       "      <td>{'max_features': 4, 'n_estimators': 30}</td>\n",
       "      <td>-2694543559.1</td>\n",
       "      <td>-2520651745.1</td>\n",
       "      <td>...</td>\n",
       "      <td>-2545239600.0</td>\n",
       "      <td>107488695.1</td>\n",
       "      <td>3</td>\n",
       "      <td>-385456213.8</td>\n",
       "      <td>-398090880.6</td>\n",
       "      <td>-396607020.7</td>\n",
       "      <td>-393866109.3</td>\n",
       "      <td>-388068300.2</td>\n",
       "      <td>-392417704.9</td>\n",
       "      <td>4882885.3</td>\n",
       "    </tr>\n",
       "    <tr>\n",
       "      <th>6</th>\n",
       "      <td>0.1</td>\n",
       "      <td>0.0</td>\n",
       "      <td>0.0</td>\n",
       "      <td>0.0</td>\n",
       "      <td>6</td>\n",
       "      <td>3</td>\n",
       "      <td>NaN</td>\n",
       "      <td>{'max_features': 6, 'n_estimators': 3}</td>\n",
       "      <td>-3346412353.1</td>\n",
       "      <td>-3437443021.5</td>\n",
       "      <td>...</td>\n",
       "      <td>-3390447516.2</td>\n",
       "      <td>90631970.5</td>\n",
       "      <td>12</td>\n",
       "      <td>-855243330.7</td>\n",
       "      <td>-879304171.2</td>\n",
       "      <td>-897349510.0</td>\n",
       "      <td>-884214795.2</td>\n",
       "      <td>-910664684.9</td>\n",
       "      <td>-885355298.4</td>\n",
       "      <td>18596094.4</td>\n",
       "    </tr>\n",
       "    <tr>\n",
       "      <th>7</th>\n",
       "      <td>0.3</td>\n",
       "      <td>0.0</td>\n",
       "      <td>0.0</td>\n",
       "      <td>0.0</td>\n",
       "      <td>6</td>\n",
       "      <td>10</td>\n",
       "      <td>NaN</td>\n",
       "      <td>{'max_features': 6, 'n_estimators': 10}</td>\n",
       "      <td>-2793393717.6</td>\n",
       "      <td>-2723443973.2</td>\n",
       "      <td>...</td>\n",
       "      <td>-2721962308.6</td>\n",
       "      <td>48894087.6</td>\n",
       "      <td>6</td>\n",
       "      <td>-490255583.5</td>\n",
       "      <td>-484799122.7</td>\n",
       "      <td>-508128499.2</td>\n",
       "      <td>-509132949.6</td>\n",
       "      <td>-500095751.4</td>\n",
       "      <td>-498482381.3</td>\n",
       "      <td>9633243.8</td>\n",
       "    </tr>\n",
       "    <tr>\n",
       "      <th>8</th>\n",
       "      <td>1.0</td>\n",
       "      <td>0.0</td>\n",
       "      <td>0.0</td>\n",
       "      <td>0.0</td>\n",
       "      <td>6</td>\n",
       "      <td>30</td>\n",
       "      <td>NaN</td>\n",
       "      <td>{'max_features': 6, 'n_estimators': 30}</td>\n",
       "      <td>-2607335508.9</td>\n",
       "      <td>-2575769912.1</td>\n",
       "      <td>...</td>\n",
       "      <td>-2519970943.9</td>\n",
       "      <td>89142279.5</td>\n",
       "      <td>2</td>\n",
       "      <td>-376771921.8</td>\n",
       "      <td>-378869591.8</td>\n",
       "      <td>-389963485.4</td>\n",
       "      <td>-386129838.4</td>\n",
       "      <td>-380941738.7</td>\n",
       "      <td>-382535315.2</td>\n",
       "      <td>4843387.8</td>\n",
       "    </tr>\n",
       "    <tr>\n",
       "      <th>9</th>\n",
       "      <td>0.1</td>\n",
       "      <td>0.0</td>\n",
       "      <td>0.0</td>\n",
       "      <td>0.0</td>\n",
       "      <td>8</td>\n",
       "      <td>3</td>\n",
       "      <td>NaN</td>\n",
       "      <td>{'max_features': 8, 'n_estimators': 3}</td>\n",
       "      <td>-3659507661.0</td>\n",
       "      <td>-3547715857.6</td>\n",
       "      <td>...</td>\n",
       "      <td>-3524284932.1</td>\n",
       "      <td>189407991.0</td>\n",
       "      <td>14</td>\n",
       "      <td>-908318866.0</td>\n",
       "      <td>-946332120.6</td>\n",
       "      <td>-937913413.3</td>\n",
       "      <td>-850152462.1</td>\n",
       "      <td>-925466256.5</td>\n",
       "      <td>-913636623.7</td>\n",
       "      <td>34225182.4</td>\n",
       "    </tr>\n",
       "    <tr>\n",
       "      <th>10</th>\n",
       "      <td>0.4</td>\n",
       "      <td>0.0</td>\n",
       "      <td>0.0</td>\n",
       "      <td>0.0</td>\n",
       "      <td>8</td>\n",
       "      <td>10</td>\n",
       "      <td>NaN</td>\n",
       "      <td>{'max_features': 8, 'n_estimators': 10}</td>\n",
       "      <td>-2968537084.8</td>\n",
       "      <td>-2748155813.4</td>\n",
       "      <td>...</td>\n",
       "      <td>-2759454871.5</td>\n",
       "      <td>145150601.3</td>\n",
       "      <td>8</td>\n",
       "      <td>-499204057.0</td>\n",
       "      <td>-499501025.2</td>\n",
       "      <td>-516823429.7</td>\n",
       "      <td>-486960776.8</td>\n",
       "      <td>-494733521.8</td>\n",
       "      <td>-499444562.1</td>\n",
       "      <td>9799233.3</td>\n",
       "    </tr>\n",
       "    <tr>\n",
       "      <th>11</th>\n",
       "      <td>1.3</td>\n",
       "      <td>0.0</td>\n",
       "      <td>0.0</td>\n",
       "      <td>0.0</td>\n",
       "      <td>8</td>\n",
       "      <td>30</td>\n",
       "      <td>NaN</td>\n",
       "      <td>{'max_features': 8, 'n_estimators': 30}</td>\n",
       "      <td>-2707023675.7</td>\n",
       "      <td>-2498984387.3</td>\n",
       "      <td>...</td>\n",
       "      <td>-2502090526.7</td>\n",
       "      <td>120152562.6</td>\n",
       "      <td>1</td>\n",
       "      <td>-375760520.1</td>\n",
       "      <td>-379525700.4</td>\n",
       "      <td>-394703438.0</td>\n",
       "      <td>-372920273.2</td>\n",
       "      <td>-377070467.3</td>\n",
       "      <td>-379996079.8</td>\n",
       "      <td>7656289.6</td>\n",
       "    </tr>\n",
       "    <tr>\n",
       "      <th>12</th>\n",
       "      <td>0.1</td>\n",
       "      <td>0.0</td>\n",
       "      <td>0.0</td>\n",
       "      <td>0.0</td>\n",
       "      <td>2</td>\n",
       "      <td>3</td>\n",
       "      <td>False</td>\n",
       "      <td>{'bootstrap': False, 'max_features': 2, 'n_est...</td>\n",
       "      <td>-3878998479.2</td>\n",
       "      <td>-3657607918.3</td>\n",
       "      <td>...</td>\n",
       "      <td>-3839168481.7</td>\n",
       "      <td>93448009.7</td>\n",
       "      <td>17</td>\n",
       "      <td>-0.0</td>\n",
       "      <td>-0.0</td>\n",
       "      <td>-0.0</td>\n",
       "      <td>-0.0</td>\n",
       "      <td>-206129.7</td>\n",
       "      <td>-41225.9</td>\n",
       "      <td>82451.9</td>\n",
       "    </tr>\n",
       "    <tr>\n",
       "      <th>13</th>\n",
       "      <td>0.2</td>\n",
       "      <td>0.0</td>\n",
       "      <td>0.0</td>\n",
       "      <td>0.0</td>\n",
       "      <td>2</td>\n",
       "      <td>10</td>\n",
       "      <td>False</td>\n",
       "      <td>{'bootstrap': False, 'max_features': 2, 'n_est...</td>\n",
       "      <td>-2862561053.7</td>\n",
       "      <td>-2884153162.3</td>\n",
       "      <td>...</td>\n",
       "      <td>-2836316909.4</td>\n",
       "      <td>71267133.8</td>\n",
       "      <td>10</td>\n",
       "      <td>-3785.7</td>\n",
       "      <td>-101.8</td>\n",
       "      <td>-42.6</td>\n",
       "      <td>-0.0</td>\n",
       "      <td>-18551.7</td>\n",
       "      <td>-4496.3</td>\n",
       "      <td>7175.3</td>\n",
       "    </tr>\n",
       "    <tr>\n",
       "      <th>14</th>\n",
       "      <td>0.1</td>\n",
       "      <td>0.0</td>\n",
       "      <td>0.0</td>\n",
       "      <td>0.0</td>\n",
       "      <td>3</td>\n",
       "      <td>3</td>\n",
       "      <td>False</td>\n",
       "      <td>{'bootstrap': False, 'max_features': 3, 'n_est...</td>\n",
       "      <td>-3744077634.5</td>\n",
       "      <td>-3686258111.7</td>\n",
       "      <td>...</td>\n",
       "      <td>-3610141050.1</td>\n",
       "      <td>134560037.7</td>\n",
       "      <td>15</td>\n",
       "      <td>-0.0</td>\n",
       "      <td>-0.0</td>\n",
       "      <td>-0.0</td>\n",
       "      <td>-0.0</td>\n",
       "      <td>-0.0</td>\n",
       "      <td>0.0</td>\n",
       "      <td>0.0</td>\n",
       "    </tr>\n",
       "    <tr>\n",
       "      <th>15</th>\n",
       "      <td>0.3</td>\n",
       "      <td>0.0</td>\n",
       "      <td>0.0</td>\n",
       "      <td>0.0</td>\n",
       "      <td>3</td>\n",
       "      <td>10</td>\n",
       "      <td>False</td>\n",
       "      <td>{'bootstrap': False, 'max_features': 3, 'n_est...</td>\n",
       "      <td>-2741572955.2</td>\n",
       "      <td>-2768562289.4</td>\n",
       "      <td>...</td>\n",
       "      <td>-2667161073.3</td>\n",
       "      <td>115808770.6</td>\n",
       "      <td>4</td>\n",
       "      <td>-3.9</td>\n",
       "      <td>-3.9</td>\n",
       "      <td>-968.1</td>\n",
       "      <td>-0.0</td>\n",
       "      <td>-236.6</td>\n",
       "      <td>-242.5</td>\n",
       "      <td>374.0</td>\n",
       "    </tr>\n",
       "    <tr>\n",
       "      <th>16</th>\n",
       "      <td>0.1</td>\n",
       "      <td>0.0</td>\n",
       "      <td>0.0</td>\n",
       "      <td>0.0</td>\n",
       "      <td>4</td>\n",
       "      <td>3</td>\n",
       "      <td>False</td>\n",
       "      <td>{'bootstrap': False, 'max_features': 4, 'n_est...</td>\n",
       "      <td>-3500713447.1</td>\n",
       "      <td>-3401177291.1</td>\n",
       "      <td>...</td>\n",
       "      <td>-3402772597.4</td>\n",
       "      <td>117172555.9</td>\n",
       "      <td>13</td>\n",
       "      <td>-0.0</td>\n",
       "      <td>-0.0</td>\n",
       "      <td>-0.0</td>\n",
       "      <td>-0.0</td>\n",
       "      <td>-0.0</td>\n",
       "      <td>0.0</td>\n",
       "      <td>0.0</td>\n",
       "    </tr>\n",
       "    <tr>\n",
       "      <th>17</th>\n",
       "      <td>0.4</td>\n",
       "      <td>0.0</td>\n",
       "      <td>0.0</td>\n",
       "      <td>0.0</td>\n",
       "      <td>4</td>\n",
       "      <td>10</td>\n",
       "      <td>False</td>\n",
       "      <td>{'bootstrap': False, 'max_features': 4, 'n_est...</td>\n",
       "      <td>-2757460489.5</td>\n",
       "      <td>-2712144475.0</td>\n",
       "      <td>...</td>\n",
       "      <td>-2706707562.1</td>\n",
       "      <td>69165299.6</td>\n",
       "      <td>5</td>\n",
       "      <td>-0.0</td>\n",
       "      <td>-0.0</td>\n",
       "      <td>-0.0</td>\n",
       "      <td>-0.0</td>\n",
       "      <td>-481.8</td>\n",
       "      <td>-96.4</td>\n",
       "      <td>192.7</td>\n",
       "    </tr>\n",
       "  </tbody>\n",
       "</table>\n",
       "<p>18 rows × 23 columns</p>\n",
       "</div>"
      ],
      "text/plain": [
       "    mean_fit_time  std_fit_time  mean_score_time  std_score_time  \\\n",
       "0             0.1           0.0              0.0             0.0   \n",
       "1             0.1           0.0              0.0             0.0   \n",
       "2             0.4           0.0              0.0             0.0   \n",
       "3             0.1           0.0              0.0             0.0   \n",
       "4             0.2           0.0              0.0             0.0   \n",
       "5             0.7           0.0              0.0             0.0   \n",
       "6             0.1           0.0              0.0             0.0   \n",
       "7             0.3           0.0              0.0             0.0   \n",
       "8             1.0           0.0              0.0             0.0   \n",
       "9             0.1           0.0              0.0             0.0   \n",
       "10            0.4           0.0              0.0             0.0   \n",
       "11            1.3           0.0              0.0             0.0   \n",
       "12            0.1           0.0              0.0             0.0   \n",
       "13            0.2           0.0              0.0             0.0   \n",
       "14            0.1           0.0              0.0             0.0   \n",
       "15            0.3           0.0              0.0             0.0   \n",
       "16            0.1           0.0              0.0             0.0   \n",
       "17            0.4           0.0              0.0             0.0   \n",
       "\n",
       "   param_max_features param_n_estimators param_bootstrap  \\\n",
       "0                   2                  3             NaN   \n",
       "1                   2                 10             NaN   \n",
       "2                   2                 30             NaN   \n",
       "3                   4                  3             NaN   \n",
       "4                   4                 10             NaN   \n",
       "5                   4                 30             NaN   \n",
       "6                   6                  3             NaN   \n",
       "7                   6                 10             NaN   \n",
       "8                   6                 30             NaN   \n",
       "9                   8                  3             NaN   \n",
       "10                  8                 10             NaN   \n",
       "11                  8                 30             NaN   \n",
       "12                  2                  3           False   \n",
       "13                  2                 10           False   \n",
       "14                  3                  3           False   \n",
       "15                  3                 10           False   \n",
       "16                  4                  3           False   \n",
       "17                  4                 10           False   \n",
       "\n",
       "                                               params  split0_test_score  \\\n",
       "0              {'max_features': 2, 'n_estimators': 3}      -4205978294.2   \n",
       "1             {'max_features': 2, 'n_estimators': 10}      -3024896914.0   \n",
       "2             {'max_features': 2, 'n_estimators': 30}      -2803405516.2   \n",
       "3              {'max_features': 4, 'n_estimators': 3}      -3689646485.1   \n",
       "4             {'max_features': 4, 'n_estimators': 10}      -2965425307.6   \n",
       "5             {'max_features': 4, 'n_estimators': 30}      -2694543559.1   \n",
       "6              {'max_features': 6, 'n_estimators': 3}      -3346412353.1   \n",
       "7             {'max_features': 6, 'n_estimators': 10}      -2793393717.6   \n",
       "8             {'max_features': 6, 'n_estimators': 30}      -2607335508.9   \n",
       "9              {'max_features': 8, 'n_estimators': 3}      -3659507661.0   \n",
       "10            {'max_features': 8, 'n_estimators': 10}      -2968537084.8   \n",
       "11            {'max_features': 8, 'n_estimators': 30}      -2707023675.7   \n",
       "12  {'bootstrap': False, 'max_features': 2, 'n_est...      -3878998479.2   \n",
       "13  {'bootstrap': False, 'max_features': 2, 'n_est...      -2862561053.7   \n",
       "14  {'bootstrap': False, 'max_features': 3, 'n_est...      -3744077634.5   \n",
       "15  {'bootstrap': False, 'max_features': 3, 'n_est...      -2741572955.2   \n",
       "16  {'bootstrap': False, 'max_features': 4, 'n_est...      -3500713447.1   \n",
       "17  {'bootstrap': False, 'max_features': 4, 'n_est...      -2757460489.5   \n",
       "\n",
       "    split1_test_score  ...  mean_test_score  std_test_score  rank_test_score  \\\n",
       "0       -3849202917.3  ...    -3953768454.1     178367700.2               18   \n",
       "1       -2992711998.6  ...    -2999971288.8      97255821.4               11   \n",
       "2       -2772253711.5  ...    -2730044655.5     105301345.7                7   \n",
       "3       -3645596146.2  ...    -3635269517.2     122230372.2               16   \n",
       "4       -2766482632.1  ...    -2828148586.0     113831283.7                9   \n",
       "5       -2520651745.1  ...    -2545239600.0     107488695.1                3   \n",
       "6       -3437443021.5  ...    -3390447516.2      90631970.5               12   \n",
       "7       -2723443973.2  ...    -2721962308.6      48894087.6                6   \n",
       "8       -2575769912.1  ...    -2519970943.9      89142279.5                2   \n",
       "9       -3547715857.6  ...    -3524284932.1     189407991.0               14   \n",
       "10      -2748155813.4  ...    -2759454871.5     145150601.3                8   \n",
       "11      -2498984387.3  ...    -2502090526.7     120152562.6                1   \n",
       "12      -3657607918.3  ...    -3839168481.7      93448009.7               17   \n",
       "13      -2884153162.3  ...    -2836316909.4      71267133.8               10   \n",
       "14      -3686258111.7  ...    -3610141050.1     134560037.7               15   \n",
       "15      -2768562289.4  ...    -2667161073.3     115808770.6                4   \n",
       "16      -3401177291.1  ...    -3402772597.4     117172555.9               13   \n",
       "17      -2712144475.0  ...    -2706707562.1      69165299.6                5   \n",
       "\n",
       "    split0_train_score  split1_train_score  split2_train_score  \\\n",
       "0         -971423364.2        -997095935.8       -1024987390.2   \n",
       "1         -530317473.4        -554157553.7        -565106842.0   \n",
       "2         -404312786.9        -423703318.9        -426677971.6   \n",
       "3         -937649922.1       -1007513444.0        -917396719.1   \n",
       "4         -517950763.9        -523135174.6        -527795433.8   \n",
       "5         -385456213.8        -398090880.6        -396607020.7   \n",
       "6         -855243330.7        -879304171.2        -897349510.0   \n",
       "7         -490255583.5        -484799122.7        -508128499.2   \n",
       "8         -376771921.8        -378869591.8        -389963485.4   \n",
       "9         -908318866.0        -946332120.6        -937913413.3   \n",
       "10        -499204057.0        -499501025.2        -516823429.7   \n",
       "11        -375760520.1        -379525700.4        -394703438.0   \n",
       "12                -0.0                -0.0                -0.0   \n",
       "13             -3785.7              -101.8               -42.6   \n",
       "14                -0.0                -0.0                -0.0   \n",
       "15                -3.9                -3.9              -968.1   \n",
       "16                -0.0                -0.0                -0.0   \n",
       "17                -0.0                -0.0                -0.0   \n",
       "\n",
       "    split3_train_score  split4_train_score  mean_train_score  std_train_score  \n",
       "0        -1069508694.3       -1030352499.0     -1018673576.7       33041331.1  \n",
       "1         -566774391.0        -556163738.9      -554503999.8       13044888.5  \n",
       "2         -424541096.2        -413338850.3      -418514804.8        8465955.1  \n",
       "3         -952053808.3        -959845592.7      -954891897.3       30015979.5  \n",
       "4         -520846574.1        -515634375.3      -521072464.3        4214782.2  \n",
       "5         -393866109.3        -388068300.2      -392417704.9        4882885.3  \n",
       "6         -884214795.2        -910664684.9      -885355298.4       18596094.4  \n",
       "7         -509132949.6        -500095751.4      -498482381.3        9633243.8  \n",
       "8         -386129838.4        -380941738.7      -382535315.2        4843387.8  \n",
       "9         -850152462.1        -925466256.5      -913636623.7       34225182.4  \n",
       "10        -486960776.8        -494733521.8      -499444562.1        9799233.3  \n",
       "11        -372920273.2        -377070467.3      -379996079.8        7656289.6  \n",
       "12                -0.0           -206129.7          -41225.9          82451.9  \n",
       "13                -0.0            -18551.7           -4496.3           7175.3  \n",
       "14                -0.0                -0.0               0.0              0.0  \n",
       "15                -0.0              -236.6            -242.5            374.0  \n",
       "16                -0.0                -0.0               0.0              0.0  \n",
       "17                -0.0              -481.8             -96.4            192.7  \n",
       "\n",
       "[18 rows x 23 columns]"
      ]
     },
     "execution_count": 132,
     "metadata": {},
     "output_type": "execute_result"
    }
   ],
   "source": [
    "pd.DataFrame(grid_search.cv_results_)"
   ]
  },
  {
   "cell_type": "code",
   "execution_count": 133,
   "id": "13248b09",
   "metadata": {},
   "outputs": [
    {
     "data": {
      "text/plain": [
       "RandomizedSearchCV(cv=5, estimator=RandomForestRegressor(random_state=98),\n",
       "                   param_distributions={'max_features': <scipy.stats._distn_infrastructure.rv_frozen object at 0x7fd735eb3ac0>,\n",
       "                                        'n_estimators': <scipy.stats._distn_infrastructure.rv_frozen object at 0x7fd6d04724c0>},\n",
       "                   random_state=98, scoring='neg_mean_squared_error')"
      ]
     },
     "execution_count": 133,
     "metadata": {},
     "output_type": "execute_result"
    }
   ],
   "source": [
    "# 랜덤 탐색\n",
    "\n",
    "from sklearn.model_selection import RandomizedSearchCV\n",
    "from scipy.stats import randint\n",
    "\n",
    "param_distribs = {\n",
    "    'n_estimators':randint(low=1,high=200),\n",
    "    'max_features':randint(low=1,high=8),\n",
    "}\n",
    "\n",
    "forest_reg = RandomForestRegressor(random_state=98)\n",
    "rnd_search = RandomizedSearchCV(forest_reg,param_distributions=param_distribs,n_iter=10,cv=5,scoring='neg_mean_squared_error',random_state=98)\n",
    "rnd_search.fit(housing_prepared,housing_labels)"
   ]
  },
  {
   "cell_type": "code",
   "execution_count": 134,
   "id": "2fc0bf5a",
   "metadata": {},
   "outputs": [
    {
     "name": "stdout",
     "output_type": "stream",
     "text": [
      "50706.27939618439 {'max_features': 3, 'n_estimators': 43}\n",
      "49375.53084025672 {'max_features': 5, 'n_estimators': 192}\n",
      "50095.93392918335 {'max_features': 4, 'n_estimators': 66}\n",
      "49846.973896847805 {'max_features': 5, 'n_estimators': 72}\n",
      "59228.495250357206 {'max_features': 7, 'n_estimators': 3}\n",
      "50245.58576249134 {'max_features': 3, 'n_estimators': 74}\n",
      "51355.32069854133 {'max_features': 2, 'n_estimators': 150}\n",
      "50155.25597817211 {'max_features': 3, 'n_estimators': 106}\n",
      "49968.29157496334 {'max_features': 4, 'n_estimators': 92}\n",
      "54311.27026550975 {'max_features': 5, 'n_estimators': 7}\n"
     ]
    }
   ],
   "source": [
    "cvres = rnd_search.cv_results_\n",
    "for mean_score, params in zip(cvres[\"mean_test_score\"], cvres[\"params\"]):\n",
    "    print(np.sqrt(-mean_score), params)"
   ]
  },
  {
   "cell_type": "code",
   "execution_count": 137,
   "id": "3f90438d",
   "metadata": {},
   "outputs": [
    {
     "data": {
      "text/plain": [
       "array([6.10922094e-02, 5.87127719e-02, 4.50539080e-02, 1.60136522e-02,\n",
       "       1.49786994e-02, 1.53351391e-02, 1.50193412e-02, 3.12633480e-01,\n",
       "       1.39794223e-01, 2.84864749e-02, 1.03303957e-01, 5.58510909e-02,\n",
       "       5.73888128e-03, 1.21802340e-01, 2.37445859e-04, 2.21793389e-03,\n",
       "       3.72845279e-03])"
      ]
     },
     "execution_count": 137,
     "metadata": {},
     "output_type": "execute_result"
    }
   ],
   "source": [
    "feature_importances = grid_search.best_estimator_.feature_importances_\n",
    "feature_importances"
   ]
  },
  {
   "cell_type": "code",
   "execution_count": 138,
   "id": "58f24161",
   "metadata": {},
   "outputs": [
    {
     "data": {
      "text/plain": [
       "[(0.3126334797898743, 'median_income'),\n",
       " (0.13979422287718649, 'income_cat'),\n",
       " (0.12180233950238052, 'INLAND'),\n",
       " (0.10330395711352522, 'pop_per_hhold'),\n",
       " (0.06109220937087258, 'longitude'),\n",
       " (0.058712771869456205, 'latitude'),\n",
       " (0.05585109093356509, 'bedrooms_per_room'),\n",
       " (0.045053907972739955, 'housing_median_age'),\n",
       " (0.0284864748834159, 'rooms_per_hhold'),\n",
       " (0.016013652171217654, 'total_rooms'),\n",
       " (0.015335139144560538, 'population'),\n",
       " (0.015019341176255958, 'households'),\n",
       " (0.014978699378650156, 'total_bedrooms'),\n",
       " (0.0057388812772789935, '<1H OCEAN'),\n",
       " (0.003728452791780767, 'NEAR OCEAN'),\n",
       " (0.0022179338882809484, 'NEAR BAY'),\n",
       " (0.00023744585895872316, 'ISLAND')]"
      ]
     },
     "execution_count": 138,
     "metadata": {},
     "output_type": "execute_result"
    }
   ],
   "source": [
    "extra_attribs = [\"rooms_per_hhold\", \"pop_per_hhold\", \"bedrooms_per_room\"]\n",
    "#cat_encoder = cat_pipeline.named_steps[\"cat_encoder\"] # 예전 방식\n",
    "cat_encoder = full_pipeline.named_transformers_[\"cat\"]\n",
    "cat_one_hot_attribs = list(cat_encoder.categories_[0])\n",
    "attributes = num_attribs + extra_attribs + cat_one_hot_attribs\n",
    "sorted(zip(feature_importances, attributes), reverse=True)"
   ]
  },
  {
   "cell_type": "code",
   "execution_count": 140,
   "id": "b77873fa",
   "metadata": {},
   "outputs": [],
   "source": [
    "# 테스트 데이터로 모델 평가\n",
    "\n",
    "final_model = grid_search.best_estimator_\n",
    "\n",
    "X_test = strat_test_set.drop('median_house_value',axis=1)\n",
    "y_test = strat_test_set['median_house_value'].copy()\n",
    "\n",
    "X_test_prepared = full_pipeline.transform(X_test)\n",
    "final_predictions = final_model.predict(X_test_prepared)\n",
    "\n",
    "final_mse = mean_squared_error(y_test,final_predictions)\n",
    "final_rmse = np.sqrt(final_mse)"
   ]
  },
  {
   "cell_type": "code",
   "execution_count": 141,
   "id": "2e86182b",
   "metadata": {},
   "outputs": [
    {
     "data": {
      "text/plain": [
       "52028.565273644235"
      ]
     },
     "execution_count": 141,
     "metadata": {},
     "output_type": "execute_result"
    }
   ],
   "source": [
    "final_rmse"
   ]
  },
  {
   "cell_type": "code",
   "execution_count": 142,
   "id": "948f3661",
   "metadata": {},
   "outputs": [
    {
     "data": {
      "text/plain": [
       "array([49791.06650642, 54173.72891929])"
      ]
     },
     "execution_count": 142,
     "metadata": {},
     "output_type": "execute_result"
    }
   ],
   "source": [
    "# 테스트 rmse에 대한 95% 신뢰구간 계산\n",
    "\n",
    "from scipy import stats\n",
    "\n",
    "confidence = 0.95\n",
    "\n",
    "\n",
    "squared_errors = (final_predictions - y_test) ** 2\n",
    "np.sqrt(stats.t.interval(confidence, len(squared_errors) - 1,\n",
    "                         loc=squared_errors.mean(),\n",
    "                         scale=stats.sem(squared_errors)))"
   ]
  },
  {
   "cell_type": "code",
   "execution_count": null,
   "id": "c9cc8731",
   "metadata": {},
   "outputs": [],
   "source": []
  },
  {
   "cell_type": "code",
   "execution_count": null,
   "id": "f394b3c3",
   "metadata": {},
   "outputs": [],
   "source": []
  },
  {
   "cell_type": "code",
   "execution_count": null,
   "id": "9d9b87bd",
   "metadata": {},
   "outputs": [],
   "source": []
  },
  {
   "cell_type": "code",
   "execution_count": null,
   "id": "5595f6ad",
   "metadata": {},
   "outputs": [],
   "source": []
  },
  {
   "cell_type": "markdown",
   "id": "07645a04",
   "metadata": {},
   "source": [
    "gamma : kernel의 계수\n",
    "C : 오차 구간에 대한 페널티 값\n",
    "\n",
    "주의할점 \n",
    "degree : kernel중 poly만 지원\n",
    "gamma : auto인 경우 1/feature 수\n",
    "coef : kernel를 poly,sigmoid에만 유용\n"
   ]
  },
  {
   "cell_type": "code",
   "execution_count": 145,
   "id": "5b3a55df",
   "metadata": {},
   "outputs": [],
   "source": [
    "from tqdm import tqdm\n",
    "import time"
   ]
  },
  {
   "cell_type": "code",
   "execution_count": 148,
   "id": "9776e028",
   "metadata": {},
   "outputs": [
    {
     "name": "stdout",
     "output_type": "stream",
     "text": [
      "커널:  rbf\n",
      "절편항:  [179770.36811169]\n",
      "평균 잔차 제곱:  11288328646.30772\n",
      "커널:  rbf\n",
      "절편항:  [179706.07163801]\n",
      "평균 잔차 제곱:  11288328646.30772\n",
      "커널:  rbf\n",
      "절편항:  [179700.17155688]\n",
      "평균 잔차 제곱:  11288328646.30772\n",
      "커널:  rbf\n",
      "절편항:  [179700.17504701]\n",
      "평균 잔차 제곱:  11288328646.30772\n",
      "커널:  rbf\n",
      "절편항:  [179700.175]\n",
      "평균 잔차 제곱:  11288328646.30772\n",
      "커널:  rbf\n",
      "절편항:  [179934.30810966]\n",
      "평균 잔차 제곱:  11288328646.30772\n",
      "커널:  rbf\n",
      "절편항:  [179720.74242598]\n",
      "평균 잔차 제곱:  11288328646.30772\n",
      "커널:  rbf\n",
      "절편항:  [179700.81556875]\n",
      "평균 잔차 제곱:  11288328646.30772\n",
      "커널:  rbf\n",
      "절편항:  [179700.85047013]\n",
      "평균 잔차 제곱:  11288328646.30772\n",
      "커널:  rbf\n",
      "절편항:  [179700.85]\n",
      "평균 잔차 제곱:  11288328646.30772\n",
      "커널:  rbf\n",
      "절편항:  [180971.23673244]\n",
      "평균 잔차 제곱:  11288328646.30772\n",
      "커널:  rbf\n",
      "절편항:  [179554.9689237]\n",
      "평균 잔차 제곱:  11288328646.30772\n",
      "커널:  rbf\n",
      "절편항:  [179707.25568753]\n",
      "평균 잔차 제곱:  11288328646.30772\n",
      "커널:  rbf\n",
      "절편항:  [179707.60470133]\n",
      "평균 잔차 제곱:  11288328646.30772\n",
      "커널:  rbf\n",
      "절편항:  [179707.6]\n",
      "평균 잔차 제곱:  11288328646.30772\n",
      "커널:  rbf\n",
      "절편항:  [192534.57515858]\n",
      "평균 잔차 제곱:  11288328646.30772\n",
      "커널:  rbf\n",
      "절편항:  [178497.19787806]\n",
      "평균 잔차 제곱:  11288328646.30772\n",
      "커널:  rbf\n",
      "절편항:  [179721.19946644]\n",
      "평균 잔차 제곱:  11288328646.30772\n",
      "커널:  rbf\n",
      "절편항:  [179735.23833622]\n",
      "평균 잔차 제곱:  11288328646.30772\n",
      "커널:  rbf\n",
      "절편항:  [179735.28823529]\n",
      "평균 잔차 제곱:  11288328646.30772\n",
      "커널:  rbf\n",
      "절편항:  [213958.75589563]\n",
      "평균 잔차 제곱:  11288328646.30772\n",
      "커널:  rbf\n",
      "절편항:  [182272.47323451]\n",
      "평균 잔차 제곱:  11288328646.30772\n",
      "커널:  rbf\n",
      "절편항:  [179393.63375134]\n",
      "평균 잔차 제곱:  11288328646.30772\n",
      "커널:  rbf\n",
      "절편항:  [179804.87921033]\n",
      "평균 잔차 제곱:  11288328646.30772\n",
      "커널:  rbf\n",
      "절편항:  [179807.71025794]\n",
      "평균 잔차 제곱:  11288328646.30772\n"
     ]
    }
   ],
   "source": [
    "# 커널에 따른 변화값\n",
    "\n",
    "kernel_list = ['rbf','poly','sigmoid']\n",
    "\n",
    "# for kernel in kernel_list:\n",
    "#     reg = SVR(C=10,epsilon=0.2,kernel = kernel)\n",
    "#     reg.fit(housing_prepared,housing_labels)\n",
    "    \n",
    "#     print(\"커널: \",kernel)\n",
    "#     print('절편항: ',reg.intercept_)\n",
    "#     print('평균 잔차 제곱: ',mean_squared_error(housing_labels,housing_predictions))\n",
    "    \n",
    "    \n",
    "c_list = [0.1,1,10,100,1000]\n",
    "gamma_list = [0.1,1,10,100,1000]\n",
    "\n",
    "for i in c_list:\n",
    "    for j in gamma_list:\n",
    "        reg = SVR(kernel='rbf', C=i,gamma= j)\n",
    "        reg.fit(housing_prepared,housing_labels)\n",
    "        \n",
    "        print(\"커널: \",kernel)\n",
    "        print('절편항: ',reg.intercept_)\n",
    "        print('평균 잔차 제곱: ',mean_squared_error(housing_labels,housing_predictions))"
   ]
  },
  {
   "cell_type": "code",
   "execution_count": null,
   "id": "2321cf1e",
   "metadata": {},
   "outputs": [],
   "source": []
  },
  {
   "cell_type": "code",
   "execution_count": null,
   "id": "5f212201",
   "metadata": {},
   "outputs": [],
   "source": []
  },
  {
   "cell_type": "code",
   "execution_count": null,
   "id": "c3e6e73d",
   "metadata": {},
   "outputs": [],
   "source": []
  },
  {
   "cell_type": "code",
   "execution_count": null,
   "id": "14d12a36",
   "metadata": {},
   "outputs": [],
   "source": []
  },
  {
   "cell_type": "code",
   "execution_count": null,
   "id": "80704a0c",
   "metadata": {},
   "outputs": [],
   "source": [
    "# 랜덤스테이트를 설정하는 이유 = 재현을 똑같이 하기위해서\n",
    "# 루트안에 neg 넣으면 허수가 나오므로, np.sqrt(-scores) / scores에 -를 넣어줌 \n",
    "\n",
    "\n",
    "# 트리갯수가 많아지면 과적합이 날수있으므로, 최적의 트리수를 찾아야함 ( 그리드 탐색으로)\n",
    "\n",
    "\n",
    "\n",
    "#  숙제 부분\n",
    "# 싸이킷런의 svr 부분을 참고하여 옵션이 뭐가 있는지 확인하고, 사용해보기\n",
    "from sklearn.svm import SVR\n",
    "\n",
    "svm_reg = SVR(kernel=\"linear\")\n",
    "svm_reg.fit(housing_prepared, housing_labels)\n",
    "housing_predictions = svm_reg.predict(housing_prepared)\n",
    "svm_mse = mean_squared_error(housing_labels, housing_predictions)\n",
    "svm_rmse = np.sqrt(svm_mse)\n",
    "svm_rmse\n",
    "\n",
    "\n",
    "from sklearn.model_selection import GridSearchCV\n",
    "\n",
    "param_grid = [\n",
    "    # 12(=3×4)개의 하이퍼파라미터 조합을 시도합니다.\n",
    "    {'n_estimators': [3, 10, 30], 'max_features': [2, 4, 6, 8]},\n",
    "    # bootstrap은 False로 하고 6(=2×3)개의 조합을 시도합니다.\n",
    "    {'bootstrap': [False], 'n_estimators': [3, 10], 'max_features': [2, 3, 4]},\n",
    "  ]\n",
    "\n",
    "forest_reg = RandomForestRegressor(random_state=42)\n",
    "# 다섯 개의 폴드로 훈련하면 총 (12+6)*5=90번의 훈련이 일어납니다.\n",
    "grid_search = GridSearchCV(forest_reg, param_grid, cv=5,\n",
    "                           scoring='neg_mean_squared_error',\n",
    "                           return_train_score=True)\n",
    "grid_search.fit(housing_prepared, housing_labels)"
   ]
  }
 ],
 "metadata": {
  "kernelspec": {
   "display_name": "Python 3 (ipykernel)",
   "language": "python",
   "name": "python3"
  },
  "language_info": {
   "codemirror_mode": {
    "name": "ipython",
    "version": 3
   },
   "file_extension": ".py",
   "mimetype": "text/x-python",
   "name": "python",
   "nbconvert_exporter": "python",
   "pygments_lexer": "ipython3",
   "version": "3.9.12"
  }
 },
 "nbformat": 4,
 "nbformat_minor": 5
}
